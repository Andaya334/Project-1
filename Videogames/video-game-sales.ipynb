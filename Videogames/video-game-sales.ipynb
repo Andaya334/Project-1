{
 "cells": [
  {
   "cell_type": "code",
   "execution_count": 1,
   "id": "756d5f96",
   "metadata": {},
   "outputs": [],
   "source": [
    "#Import dependencies\n",
    "%matplotlib notebook\n",
    "import numpy as np\n",
    "import pandas as pd\n",
    "import os\n",
    "import matplotlib.pyplot as plt\n",
    "import matplotlib\n",
    "import seaborn as sns\n",
    "import plotly.graph_objects as go\n",
    "from plotly.offline import init_notebook_mode, iplot\n"
   ]
  },
  {
   "cell_type": "code",
   "execution_count": 2,
   "id": "ea0a4993",
   "metadata": {},
   "outputs": [],
   "source": [
    "csv_path=\"VGS.csv\""
   ]
  },
  {
   "cell_type": "code",
   "execution_count": 3,
   "id": "d3c7eefe",
   "metadata": {},
   "outputs": [
    {
     "data": {
      "text/html": [
       "<div>\n",
       "<style scoped>\n",
       "    .dataframe tbody tr th:only-of-type {\n",
       "        vertical-align: middle;\n",
       "    }\n",
       "\n",
       "    .dataframe tbody tr th {\n",
       "        vertical-align: top;\n",
       "    }\n",
       "\n",
       "    .dataframe thead th {\n",
       "        text-align: right;\n",
       "    }\n",
       "</style>\n",
       "<table border=\"1\" class=\"dataframe\">\n",
       "  <thead>\n",
       "    <tr style=\"text-align: right;\">\n",
       "      <th></th>\n",
       "      <th>Name</th>\n",
       "      <th>Platform</th>\n",
       "      <th>Year_of_Release</th>\n",
       "      <th>Genre</th>\n",
       "      <th>Publisher</th>\n",
       "      <th>NA_Sales</th>\n",
       "      <th>EU_Sales</th>\n",
       "      <th>JP_Sales</th>\n",
       "      <th>Other_Sales</th>\n",
       "      <th>Global_Sales</th>\n",
       "      <th>Critic_Score</th>\n",
       "      <th>Critic_Count</th>\n",
       "      <th>User_Score</th>\n",
       "      <th>User_Count</th>\n",
       "      <th>Developer</th>\n",
       "      <th>Rating</th>\n",
       "    </tr>\n",
       "  </thead>\n",
       "  <tbody>\n",
       "    <tr>\n",
       "      <th>0</th>\n",
       "      <td>Wii Sports</td>\n",
       "      <td>Wii</td>\n",
       "      <td>2006.0</td>\n",
       "      <td>Sports</td>\n",
       "      <td>Nintendo</td>\n",
       "      <td>41.36</td>\n",
       "      <td>28.96</td>\n",
       "      <td>3.77</td>\n",
       "      <td>8.45</td>\n",
       "      <td>82.53</td>\n",
       "      <td>76.0</td>\n",
       "      <td>51.0</td>\n",
       "      <td>8</td>\n",
       "      <td>322.0</td>\n",
       "      <td>Nintendo</td>\n",
       "      <td>E</td>\n",
       "    </tr>\n",
       "    <tr>\n",
       "      <th>1</th>\n",
       "      <td>Super Mario Bros.</td>\n",
       "      <td>NES</td>\n",
       "      <td>1985.0</td>\n",
       "      <td>Platform</td>\n",
       "      <td>Nintendo</td>\n",
       "      <td>29.08</td>\n",
       "      <td>3.58</td>\n",
       "      <td>6.81</td>\n",
       "      <td>0.77</td>\n",
       "      <td>40.24</td>\n",
       "      <td>NaN</td>\n",
       "      <td>NaN</td>\n",
       "      <td>NaN</td>\n",
       "      <td>NaN</td>\n",
       "      <td>NaN</td>\n",
       "      <td>NaN</td>\n",
       "    </tr>\n",
       "    <tr>\n",
       "      <th>2</th>\n",
       "      <td>Mario Kart Wii</td>\n",
       "      <td>Wii</td>\n",
       "      <td>2008.0</td>\n",
       "      <td>Racing</td>\n",
       "      <td>Nintendo</td>\n",
       "      <td>15.68</td>\n",
       "      <td>12.76</td>\n",
       "      <td>3.79</td>\n",
       "      <td>3.29</td>\n",
       "      <td>35.52</td>\n",
       "      <td>82.0</td>\n",
       "      <td>73.0</td>\n",
       "      <td>8.3</td>\n",
       "      <td>709.0</td>\n",
       "      <td>Nintendo</td>\n",
       "      <td>E</td>\n",
       "    </tr>\n",
       "    <tr>\n",
       "      <th>3</th>\n",
       "      <td>Wii Sports Resort</td>\n",
       "      <td>Wii</td>\n",
       "      <td>2009.0</td>\n",
       "      <td>Sports</td>\n",
       "      <td>Nintendo</td>\n",
       "      <td>15.61</td>\n",
       "      <td>10.93</td>\n",
       "      <td>3.28</td>\n",
       "      <td>2.95</td>\n",
       "      <td>32.77</td>\n",
       "      <td>80.0</td>\n",
       "      <td>73.0</td>\n",
       "      <td>8</td>\n",
       "      <td>192.0</td>\n",
       "      <td>Nintendo</td>\n",
       "      <td>E</td>\n",
       "    </tr>\n",
       "    <tr>\n",
       "      <th>4</th>\n",
       "      <td>Pokemon Red/Pokemon Blue</td>\n",
       "      <td>GB</td>\n",
       "      <td>1996.0</td>\n",
       "      <td>Role-Playing</td>\n",
       "      <td>Nintendo</td>\n",
       "      <td>11.27</td>\n",
       "      <td>8.89</td>\n",
       "      <td>10.22</td>\n",
       "      <td>1.00</td>\n",
       "      <td>31.37</td>\n",
       "      <td>NaN</td>\n",
       "      <td>NaN</td>\n",
       "      <td>NaN</td>\n",
       "      <td>NaN</td>\n",
       "      <td>NaN</td>\n",
       "      <td>NaN</td>\n",
       "    </tr>\n",
       "  </tbody>\n",
       "</table>\n",
       "</div>"
      ],
      "text/plain": [
       "                       Name Platform  Year_of_Release         Genre Publisher  \\\n",
       "0                Wii Sports      Wii           2006.0        Sports  Nintendo   \n",
       "1         Super Mario Bros.      NES           1985.0      Platform  Nintendo   \n",
       "2            Mario Kart Wii      Wii           2008.0        Racing  Nintendo   \n",
       "3         Wii Sports Resort      Wii           2009.0        Sports  Nintendo   \n",
       "4  Pokemon Red/Pokemon Blue       GB           1996.0  Role-Playing  Nintendo   \n",
       "\n",
       "   NA_Sales  EU_Sales  JP_Sales  Other_Sales  Global_Sales  Critic_Score  \\\n",
       "0     41.36     28.96      3.77         8.45         82.53          76.0   \n",
       "1     29.08      3.58      6.81         0.77         40.24           NaN   \n",
       "2     15.68     12.76      3.79         3.29         35.52          82.0   \n",
       "3     15.61     10.93      3.28         2.95         32.77          80.0   \n",
       "4     11.27      8.89     10.22         1.00         31.37           NaN   \n",
       "\n",
       "   Critic_Count User_Score  User_Count Developer Rating  \n",
       "0          51.0          8       322.0  Nintendo      E  \n",
       "1           NaN        NaN         NaN       NaN    NaN  \n",
       "2          73.0        8.3       709.0  Nintendo      E  \n",
       "3          73.0          8       192.0  Nintendo      E  \n",
       "4           NaN        NaN         NaN       NaN    NaN  "
      ]
     },
     "execution_count": 3,
     "metadata": {},
     "output_type": "execute_result"
    }
   ],
   "source": [
    "videogames_df=pd.read_csv(csv_path)\n",
    "videogames_df.head()"
   ]
  },
  {
   "cell_type": "markdown",
   "id": "9ec76e11",
   "metadata": {},
   "source": [
    "# Cleaning Data"
   ]
  },
  {
   "cell_type": "code",
   "execution_count": 4,
   "id": "e9f7771a",
   "metadata": {},
   "outputs": [
    {
     "data": {
      "text/plain": [
       "Name                  2\n",
       "Platform              0\n",
       "Year_of_Release     269\n",
       "Genre                 2\n",
       "Publisher            54\n",
       "NA_Sales              0\n",
       "EU_Sales              0\n",
       "JP_Sales              0\n",
       "Other_Sales           0\n",
       "Global_Sales          0\n",
       "Critic_Score       8582\n",
       "Critic_Count       8582\n",
       "User_Score         6704\n",
       "User_Count         9129\n",
       "Developer          6623\n",
       "Rating             6769\n",
       "dtype: int64"
      ]
     },
     "execution_count": 4,
     "metadata": {},
     "output_type": "execute_result"
    }
   ],
   "source": [
    "#Clear any null values\n",
    "videogames_df.isnull().sum()"
   ]
  },
  {
   "cell_type": "code",
   "execution_count": 5,
   "id": "fc00195e",
   "metadata": {},
   "outputs": [
    {
     "data": {
      "text/plain": [
       "Name               0\n",
       "Platform           0\n",
       "Year_of_Release    0\n",
       "Genre              0\n",
       "Publisher          0\n",
       "NA_Sales           0\n",
       "EU_Sales           0\n",
       "JP_Sales           0\n",
       "Other_Sales        0\n",
       "Global_Sales       0\n",
       "Critic_Score       0\n",
       "Critic_Count       0\n",
       "User_Score         0\n",
       "User_Count         0\n",
       "Developer          0\n",
       "Rating             0\n",
       "dtype: int64"
      ]
     },
     "execution_count": 5,
     "metadata": {},
     "output_type": "execute_result"
    }
   ],
   "source": [
    "videogames_clean_df=videogames_df.dropna(axis=0, how=\"any\", thresh=None, subset=None, inplace=False)\n",
    "videogames_clean_df.isnull().sum()"
   ]
  },
  {
   "cell_type": "code",
   "execution_count": 6,
   "id": "0afa0ce1",
   "metadata": {},
   "outputs": [
    {
     "data": {
      "text/html": [
       "<div>\n",
       "<style scoped>\n",
       "    .dataframe tbody tr th:only-of-type {\n",
       "        vertical-align: middle;\n",
       "    }\n",
       "\n",
       "    .dataframe tbody tr th {\n",
       "        vertical-align: top;\n",
       "    }\n",
       "\n",
       "    .dataframe thead th {\n",
       "        text-align: right;\n",
       "    }\n",
       "</style>\n",
       "<table border=\"1\" class=\"dataframe\">\n",
       "  <thead>\n",
       "    <tr style=\"text-align: right;\">\n",
       "      <th></th>\n",
       "      <th>Name</th>\n",
       "      <th>Platform</th>\n",
       "      <th>Year_of_Release</th>\n",
       "      <th>Genre</th>\n",
       "      <th>Publisher</th>\n",
       "      <th>NA_Sales</th>\n",
       "      <th>EU_Sales</th>\n",
       "      <th>JP_Sales</th>\n",
       "      <th>Other_Sales</th>\n",
       "      <th>Global_Sales</th>\n",
       "      <th>Critic_Score</th>\n",
       "      <th>Critic_Count</th>\n",
       "      <th>User_Score</th>\n",
       "      <th>User_Count</th>\n",
       "      <th>Developer</th>\n",
       "      <th>Rating</th>\n",
       "    </tr>\n",
       "  </thead>\n",
       "  <tbody>\n",
       "    <tr>\n",
       "      <th>0</th>\n",
       "      <td>Wii Sports</td>\n",
       "      <td>Wii</td>\n",
       "      <td>2006.0</td>\n",
       "      <td>Sports</td>\n",
       "      <td>Nintendo</td>\n",
       "      <td>41.36</td>\n",
       "      <td>28.96</td>\n",
       "      <td>3.77</td>\n",
       "      <td>8.45</td>\n",
       "      <td>82.53</td>\n",
       "      <td>76.0</td>\n",
       "      <td>51.0</td>\n",
       "      <td>8</td>\n",
       "      <td>322.0</td>\n",
       "      <td>Nintendo</td>\n",
       "      <td>E</td>\n",
       "    </tr>\n",
       "    <tr>\n",
       "      <th>2</th>\n",
       "      <td>Mario Kart Wii</td>\n",
       "      <td>Wii</td>\n",
       "      <td>2008.0</td>\n",
       "      <td>Racing</td>\n",
       "      <td>Nintendo</td>\n",
       "      <td>15.68</td>\n",
       "      <td>12.76</td>\n",
       "      <td>3.79</td>\n",
       "      <td>3.29</td>\n",
       "      <td>35.52</td>\n",
       "      <td>82.0</td>\n",
       "      <td>73.0</td>\n",
       "      <td>8.3</td>\n",
       "      <td>709.0</td>\n",
       "      <td>Nintendo</td>\n",
       "      <td>E</td>\n",
       "    </tr>\n",
       "    <tr>\n",
       "      <th>3</th>\n",
       "      <td>Wii Sports Resort</td>\n",
       "      <td>Wii</td>\n",
       "      <td>2009.0</td>\n",
       "      <td>Sports</td>\n",
       "      <td>Nintendo</td>\n",
       "      <td>15.61</td>\n",
       "      <td>10.93</td>\n",
       "      <td>3.28</td>\n",
       "      <td>2.95</td>\n",
       "      <td>32.77</td>\n",
       "      <td>80.0</td>\n",
       "      <td>73.0</td>\n",
       "      <td>8</td>\n",
       "      <td>192.0</td>\n",
       "      <td>Nintendo</td>\n",
       "      <td>E</td>\n",
       "    </tr>\n",
       "    <tr>\n",
       "      <th>6</th>\n",
       "      <td>New Super Mario Bros.</td>\n",
       "      <td>DS</td>\n",
       "      <td>2006.0</td>\n",
       "      <td>Platform</td>\n",
       "      <td>Nintendo</td>\n",
       "      <td>11.28</td>\n",
       "      <td>9.14</td>\n",
       "      <td>6.50</td>\n",
       "      <td>2.88</td>\n",
       "      <td>29.80</td>\n",
       "      <td>89.0</td>\n",
       "      <td>65.0</td>\n",
       "      <td>8.5</td>\n",
       "      <td>431.0</td>\n",
       "      <td>Nintendo</td>\n",
       "      <td>E</td>\n",
       "    </tr>\n",
       "    <tr>\n",
       "      <th>7</th>\n",
       "      <td>Wii Play</td>\n",
       "      <td>Wii</td>\n",
       "      <td>2006.0</td>\n",
       "      <td>Misc</td>\n",
       "      <td>Nintendo</td>\n",
       "      <td>13.96</td>\n",
       "      <td>9.18</td>\n",
       "      <td>2.93</td>\n",
       "      <td>2.84</td>\n",
       "      <td>28.92</td>\n",
       "      <td>58.0</td>\n",
       "      <td>41.0</td>\n",
       "      <td>6.6</td>\n",
       "      <td>129.0</td>\n",
       "      <td>Nintendo</td>\n",
       "      <td>E</td>\n",
       "    </tr>\n",
       "  </tbody>\n",
       "</table>\n",
       "</div>"
      ],
      "text/plain": [
       "                    Name Platform  Year_of_Release     Genre Publisher  \\\n",
       "0             Wii Sports      Wii           2006.0    Sports  Nintendo   \n",
       "2         Mario Kart Wii      Wii           2008.0    Racing  Nintendo   \n",
       "3      Wii Sports Resort      Wii           2009.0    Sports  Nintendo   \n",
       "6  New Super Mario Bros.       DS           2006.0  Platform  Nintendo   \n",
       "7               Wii Play      Wii           2006.0      Misc  Nintendo   \n",
       "\n",
       "   NA_Sales  EU_Sales  JP_Sales  Other_Sales  Global_Sales  Critic_Score  \\\n",
       "0     41.36     28.96      3.77         8.45         82.53          76.0   \n",
       "2     15.68     12.76      3.79         3.29         35.52          82.0   \n",
       "3     15.61     10.93      3.28         2.95         32.77          80.0   \n",
       "6     11.28      9.14      6.50         2.88         29.80          89.0   \n",
       "7     13.96      9.18      2.93         2.84         28.92          58.0   \n",
       "\n",
       "   Critic_Count User_Score  User_Count Developer Rating  \n",
       "0          51.0          8       322.0  Nintendo      E  \n",
       "2          73.0        8.3       709.0  Nintendo      E  \n",
       "3          73.0          8       192.0  Nintendo      E  \n",
       "6          65.0        8.5       431.0  Nintendo      E  \n",
       "7          41.0        6.6       129.0  Nintendo      E  "
      ]
     },
     "execution_count": 6,
     "metadata": {},
     "output_type": "execute_result"
    }
   ],
   "source": [
    "videogames_clean_df.head()"
   ]
  },
  {
   "cell_type": "code",
   "execution_count": 7,
   "id": "8e348fff",
   "metadata": {},
   "outputs": [
    {
     "data": {
      "text/html": [
       "<div>\n",
       "<style scoped>\n",
       "    .dataframe tbody tr th:only-of-type {\n",
       "        vertical-align: middle;\n",
       "    }\n",
       "\n",
       "    .dataframe tbody tr th {\n",
       "        vertical-align: top;\n",
       "    }\n",
       "\n",
       "    .dataframe thead th {\n",
       "        text-align: right;\n",
       "    }\n",
       "</style>\n",
       "<table border=\"1\" class=\"dataframe\">\n",
       "  <thead>\n",
       "    <tr style=\"text-align: right;\">\n",
       "      <th></th>\n",
       "      <th>Name</th>\n",
       "      <th>Platform</th>\n",
       "      <th>Year_of_Release</th>\n",
       "      <th>Genre</th>\n",
       "      <th>Publisher</th>\n",
       "      <th>NA_Sales</th>\n",
       "      <th>EU_Sales</th>\n",
       "      <th>JP_Sales</th>\n",
       "      <th>Other_Sales</th>\n",
       "      <th>Global_Sales</th>\n",
       "      <th>Critic_Score</th>\n",
       "      <th>Critic_Count</th>\n",
       "      <th>User_Score</th>\n",
       "      <th>User_Count</th>\n",
       "      <th>Developer</th>\n",
       "      <th>Rating</th>\n",
       "    </tr>\n",
       "  </thead>\n",
       "  <tbody>\n",
       "  </tbody>\n",
       "</table>\n",
       "</div>"
      ],
      "text/plain": [
       "Empty DataFrame\n",
       "Columns: [Name, Platform, Year_of_Release, Genre, Publisher, NA_Sales, EU_Sales, JP_Sales, Other_Sales, Global_Sales, Critic_Score, Critic_Count, User_Score, User_Count, Developer, Rating]\n",
       "Index: []"
      ]
     },
     "execution_count": 7,
     "metadata": {},
     "output_type": "execute_result"
    }
   ],
   "source": [
    "#Check for duplicates\n",
    "videogames_clean_df[videogames_clean_df.duplicated()]"
   ]
  },
  {
   "cell_type": "code",
   "execution_count": 8,
   "id": "defc18b6",
   "metadata": {},
   "outputs": [
    {
     "name": "stdout",
     "output_type": "stream",
     "text": [
      "No duplicates found in this df.\n"
     ]
    }
   ],
   "source": [
    "print(\"No duplicates found in this df.\")"
   ]
  },
  {
   "cell_type": "code",
   "execution_count": 9,
   "id": "36ed8a64",
   "metadata": {},
   "outputs": [
    {
     "data": {
      "text/plain": [
       "Index(['Name', 'Platform', 'Year_of_Release', 'Genre', 'Publisher', 'NA_Sales',\n",
       "       'EU_Sales', 'JP_Sales', 'Other_Sales', 'Global_Sales', 'Critic_Score',\n",
       "       'Critic_Count', 'User_Score', 'User_Count', 'Developer', 'Rating'],\n",
       "      dtype='object')"
      ]
     },
     "execution_count": 9,
     "metadata": {},
     "output_type": "execute_result"
    }
   ],
   "source": [
    "#Rename columns\n",
    "videogames_clean_df.columns"
   ]
  },
  {
   "cell_type": "code",
   "execution_count": 10,
   "id": "16f97cc4",
   "metadata": {},
   "outputs": [
    {
     "data": {
      "text/html": [
       "<div>\n",
       "<style scoped>\n",
       "    .dataframe tbody tr th:only-of-type {\n",
       "        vertical-align: middle;\n",
       "    }\n",
       "\n",
       "    .dataframe tbody tr th {\n",
       "        vertical-align: top;\n",
       "    }\n",
       "\n",
       "    .dataframe thead th {\n",
       "        text-align: right;\n",
       "    }\n",
       "</style>\n",
       "<table border=\"1\" class=\"dataframe\">\n",
       "  <thead>\n",
       "    <tr style=\"text-align: right;\">\n",
       "      <th></th>\n",
       "      <th>Name</th>\n",
       "      <th>Platform</th>\n",
       "      <th>Year</th>\n",
       "      <th>Genre</th>\n",
       "      <th>Publisher</th>\n",
       "      <th>NA_Sales</th>\n",
       "      <th>EU_Sales</th>\n",
       "      <th>JP_Sales</th>\n",
       "      <th>Other_Sales</th>\n",
       "      <th>Global_Sales</th>\n",
       "      <th>Critic_Score</th>\n",
       "      <th>Critic_Count</th>\n",
       "      <th>User_Score</th>\n",
       "      <th>User_Count</th>\n",
       "      <th>Developer</th>\n",
       "      <th>Rating</th>\n",
       "    </tr>\n",
       "  </thead>\n",
       "  <tbody>\n",
       "    <tr>\n",
       "      <th>0</th>\n",
       "      <td>Wii Sports</td>\n",
       "      <td>Wii</td>\n",
       "      <td>2006.0</td>\n",
       "      <td>Sports</td>\n",
       "      <td>Nintendo</td>\n",
       "      <td>41.36</td>\n",
       "      <td>28.96</td>\n",
       "      <td>3.77</td>\n",
       "      <td>8.45</td>\n",
       "      <td>82.53</td>\n",
       "      <td>76.0</td>\n",
       "      <td>51.0</td>\n",
       "      <td>8</td>\n",
       "      <td>322.0</td>\n",
       "      <td>Nintendo</td>\n",
       "      <td>E</td>\n",
       "    </tr>\n",
       "    <tr>\n",
       "      <th>2</th>\n",
       "      <td>Mario Kart Wii</td>\n",
       "      <td>Wii</td>\n",
       "      <td>2008.0</td>\n",
       "      <td>Racing</td>\n",
       "      <td>Nintendo</td>\n",
       "      <td>15.68</td>\n",
       "      <td>12.76</td>\n",
       "      <td>3.79</td>\n",
       "      <td>3.29</td>\n",
       "      <td>35.52</td>\n",
       "      <td>82.0</td>\n",
       "      <td>73.0</td>\n",
       "      <td>8.3</td>\n",
       "      <td>709.0</td>\n",
       "      <td>Nintendo</td>\n",
       "      <td>E</td>\n",
       "    </tr>\n",
       "    <tr>\n",
       "      <th>3</th>\n",
       "      <td>Wii Sports Resort</td>\n",
       "      <td>Wii</td>\n",
       "      <td>2009.0</td>\n",
       "      <td>Sports</td>\n",
       "      <td>Nintendo</td>\n",
       "      <td>15.61</td>\n",
       "      <td>10.93</td>\n",
       "      <td>3.28</td>\n",
       "      <td>2.95</td>\n",
       "      <td>32.77</td>\n",
       "      <td>80.0</td>\n",
       "      <td>73.0</td>\n",
       "      <td>8</td>\n",
       "      <td>192.0</td>\n",
       "      <td>Nintendo</td>\n",
       "      <td>E</td>\n",
       "    </tr>\n",
       "    <tr>\n",
       "      <th>6</th>\n",
       "      <td>New Super Mario Bros.</td>\n",
       "      <td>DS</td>\n",
       "      <td>2006.0</td>\n",
       "      <td>Platform</td>\n",
       "      <td>Nintendo</td>\n",
       "      <td>11.28</td>\n",
       "      <td>9.14</td>\n",
       "      <td>6.50</td>\n",
       "      <td>2.88</td>\n",
       "      <td>29.80</td>\n",
       "      <td>89.0</td>\n",
       "      <td>65.0</td>\n",
       "      <td>8.5</td>\n",
       "      <td>431.0</td>\n",
       "      <td>Nintendo</td>\n",
       "      <td>E</td>\n",
       "    </tr>\n",
       "    <tr>\n",
       "      <th>7</th>\n",
       "      <td>Wii Play</td>\n",
       "      <td>Wii</td>\n",
       "      <td>2006.0</td>\n",
       "      <td>Misc</td>\n",
       "      <td>Nintendo</td>\n",
       "      <td>13.96</td>\n",
       "      <td>9.18</td>\n",
       "      <td>2.93</td>\n",
       "      <td>2.84</td>\n",
       "      <td>28.92</td>\n",
       "      <td>58.0</td>\n",
       "      <td>41.0</td>\n",
       "      <td>6.6</td>\n",
       "      <td>129.0</td>\n",
       "      <td>Nintendo</td>\n",
       "      <td>E</td>\n",
       "    </tr>\n",
       "    <tr>\n",
       "      <th>...</th>\n",
       "      <td>...</td>\n",
       "      <td>...</td>\n",
       "      <td>...</td>\n",
       "      <td>...</td>\n",
       "      <td>...</td>\n",
       "      <td>...</td>\n",
       "      <td>...</td>\n",
       "      <td>...</td>\n",
       "      <td>...</td>\n",
       "      <td>...</td>\n",
       "      <td>...</td>\n",
       "      <td>...</td>\n",
       "      <td>...</td>\n",
       "      <td>...</td>\n",
       "      <td>...</td>\n",
       "      <td>...</td>\n",
       "    </tr>\n",
       "    <tr>\n",
       "      <th>16667</th>\n",
       "      <td>E.T. The Extra-Terrestrial</td>\n",
       "      <td>GBA</td>\n",
       "      <td>2001.0</td>\n",
       "      <td>Action</td>\n",
       "      <td>NewKidCo</td>\n",
       "      <td>0.01</td>\n",
       "      <td>0.00</td>\n",
       "      <td>0.00</td>\n",
       "      <td>0.00</td>\n",
       "      <td>0.01</td>\n",
       "      <td>46.0</td>\n",
       "      <td>4.0</td>\n",
       "      <td>2.4</td>\n",
       "      <td>21.0</td>\n",
       "      <td>Fluid Studios</td>\n",
       "      <td>E</td>\n",
       "    </tr>\n",
       "    <tr>\n",
       "      <th>16677</th>\n",
       "      <td>Mortal Kombat: Deadly Alliance</td>\n",
       "      <td>GBA</td>\n",
       "      <td>2002.0</td>\n",
       "      <td>Fighting</td>\n",
       "      <td>Midway Games</td>\n",
       "      <td>0.01</td>\n",
       "      <td>0.00</td>\n",
       "      <td>0.00</td>\n",
       "      <td>0.00</td>\n",
       "      <td>0.01</td>\n",
       "      <td>81.0</td>\n",
       "      <td>12.0</td>\n",
       "      <td>8.8</td>\n",
       "      <td>9.0</td>\n",
       "      <td>Criterion Games</td>\n",
       "      <td>M</td>\n",
       "    </tr>\n",
       "    <tr>\n",
       "      <th>16696</th>\n",
       "      <td>Metal Gear Solid V: Ground Zeroes</td>\n",
       "      <td>PC</td>\n",
       "      <td>2014.0</td>\n",
       "      <td>Action</td>\n",
       "      <td>Konami Digital Entertainment</td>\n",
       "      <td>0.00</td>\n",
       "      <td>0.01</td>\n",
       "      <td>0.00</td>\n",
       "      <td>0.00</td>\n",
       "      <td>0.01</td>\n",
       "      <td>80.0</td>\n",
       "      <td>20.0</td>\n",
       "      <td>7.6</td>\n",
       "      <td>412.0</td>\n",
       "      <td>Kojima Productions</td>\n",
       "      <td>M</td>\n",
       "    </tr>\n",
       "    <tr>\n",
       "      <th>16700</th>\n",
       "      <td>Breach</td>\n",
       "      <td>PC</td>\n",
       "      <td>2011.0</td>\n",
       "      <td>Shooter</td>\n",
       "      <td>Destineer</td>\n",
       "      <td>0.01</td>\n",
       "      <td>0.00</td>\n",
       "      <td>0.00</td>\n",
       "      <td>0.00</td>\n",
       "      <td>0.01</td>\n",
       "      <td>61.0</td>\n",
       "      <td>12.0</td>\n",
       "      <td>5.8</td>\n",
       "      <td>43.0</td>\n",
       "      <td>Atomic Games</td>\n",
       "      <td>T</td>\n",
       "    </tr>\n",
       "    <tr>\n",
       "      <th>16706</th>\n",
       "      <td>STORM: Frontline Nation</td>\n",
       "      <td>PC</td>\n",
       "      <td>2011.0</td>\n",
       "      <td>Strategy</td>\n",
       "      <td>Unknown</td>\n",
       "      <td>0.00</td>\n",
       "      <td>0.01</td>\n",
       "      <td>0.00</td>\n",
       "      <td>0.00</td>\n",
       "      <td>0.01</td>\n",
       "      <td>60.0</td>\n",
       "      <td>12.0</td>\n",
       "      <td>7.2</td>\n",
       "      <td>13.0</td>\n",
       "      <td>SimBin</td>\n",
       "      <td>E10+</td>\n",
       "    </tr>\n",
       "  </tbody>\n",
       "</table>\n",
       "<p>6825 rows × 16 columns</p>\n",
       "</div>"
      ],
      "text/plain": [
       "                                    Name Platform    Year     Genre  \\\n",
       "0                             Wii Sports      Wii  2006.0    Sports   \n",
       "2                         Mario Kart Wii      Wii  2008.0    Racing   \n",
       "3                      Wii Sports Resort      Wii  2009.0    Sports   \n",
       "6                  New Super Mario Bros.       DS  2006.0  Platform   \n",
       "7                               Wii Play      Wii  2006.0      Misc   \n",
       "...                                  ...      ...     ...       ...   \n",
       "16667         E.T. The Extra-Terrestrial      GBA  2001.0    Action   \n",
       "16677     Mortal Kombat: Deadly Alliance      GBA  2002.0  Fighting   \n",
       "16696  Metal Gear Solid V: Ground Zeroes       PC  2014.0    Action   \n",
       "16700                             Breach       PC  2011.0   Shooter   \n",
       "16706            STORM: Frontline Nation       PC  2011.0  Strategy   \n",
       "\n",
       "                          Publisher  NA_Sales  EU_Sales  JP_Sales  \\\n",
       "0                          Nintendo     41.36     28.96      3.77   \n",
       "2                          Nintendo     15.68     12.76      3.79   \n",
       "3                          Nintendo     15.61     10.93      3.28   \n",
       "6                          Nintendo     11.28      9.14      6.50   \n",
       "7                          Nintendo     13.96      9.18      2.93   \n",
       "...                             ...       ...       ...       ...   \n",
       "16667                      NewKidCo      0.01      0.00      0.00   \n",
       "16677                  Midway Games      0.01      0.00      0.00   \n",
       "16696  Konami Digital Entertainment      0.00      0.01      0.00   \n",
       "16700                     Destineer      0.01      0.00      0.00   \n",
       "16706                       Unknown      0.00      0.01      0.00   \n",
       "\n",
       "       Other_Sales  Global_Sales  Critic_Score  Critic_Count User_Score  \\\n",
       "0             8.45         82.53          76.0          51.0          8   \n",
       "2             3.29         35.52          82.0          73.0        8.3   \n",
       "3             2.95         32.77          80.0          73.0          8   \n",
       "6             2.88         29.80          89.0          65.0        8.5   \n",
       "7             2.84         28.92          58.0          41.0        6.6   \n",
       "...            ...           ...           ...           ...        ...   \n",
       "16667         0.00          0.01          46.0           4.0        2.4   \n",
       "16677         0.00          0.01          81.0          12.0        8.8   \n",
       "16696         0.00          0.01          80.0          20.0        7.6   \n",
       "16700         0.00          0.01          61.0          12.0        5.8   \n",
       "16706         0.00          0.01          60.0          12.0        7.2   \n",
       "\n",
       "       User_Count           Developer Rating  \n",
       "0           322.0            Nintendo      E  \n",
       "2           709.0            Nintendo      E  \n",
       "3           192.0            Nintendo      E  \n",
       "6           431.0            Nintendo      E  \n",
       "7           129.0            Nintendo      E  \n",
       "...           ...                 ...    ...  \n",
       "16667        21.0       Fluid Studios      E  \n",
       "16677         9.0     Criterion Games      M  \n",
       "16696       412.0  Kojima Productions      M  \n",
       "16700        43.0        Atomic Games      T  \n",
       "16706        13.0              SimBin   E10+  \n",
       "\n",
       "[6825 rows x 16 columns]"
      ]
     },
     "execution_count": 10,
     "metadata": {},
     "output_type": "execute_result"
    }
   ],
   "source": [
    "videogames_clean_df=videogames_clean_df.rename(columns={'Year_of_Release': 'Year'})\n",
    "videogames_clean_df"
   ]
  },
  {
   "cell_type": "code",
   "execution_count": 11,
   "id": "2599ad79",
   "metadata": {},
   "outputs": [
    {
     "data": {
      "text/html": [
       "<div>\n",
       "<style scoped>\n",
       "    .dataframe tbody tr th:only-of-type {\n",
       "        vertical-align: middle;\n",
       "    }\n",
       "\n",
       "    .dataframe tbody tr th {\n",
       "        vertical-align: top;\n",
       "    }\n",
       "\n",
       "    .dataframe thead th {\n",
       "        text-align: right;\n",
       "    }\n",
       "</style>\n",
       "<table border=\"1\" class=\"dataframe\">\n",
       "  <thead>\n",
       "    <tr style=\"text-align: right;\">\n",
       "      <th></th>\n",
       "      <th>Name</th>\n",
       "      <th>Platform</th>\n",
       "      <th>Year</th>\n",
       "      <th>Genre</th>\n",
       "      <th>Publisher</th>\n",
       "      <th>NA_Sales</th>\n",
       "      <th>EU_Sales</th>\n",
       "      <th>JP_Sales</th>\n",
       "      <th>Other_Sales</th>\n",
       "      <th>Global_Sales</th>\n",
       "      <th>Critic_Score</th>\n",
       "      <th>Critic_Count</th>\n",
       "      <th>User_Score</th>\n",
       "      <th>User_Count</th>\n",
       "      <th>Developer</th>\n",
       "      <th>Rating</th>\n",
       "    </tr>\n",
       "  </thead>\n",
       "  <tbody>\n",
       "    <tr>\n",
       "      <th>0</th>\n",
       "      <td>Wii Sports</td>\n",
       "      <td>Wii</td>\n",
       "      <td>2006.0</td>\n",
       "      <td>Sports</td>\n",
       "      <td>Nintendo</td>\n",
       "      <td>41.36</td>\n",
       "      <td>28.96</td>\n",
       "      <td>3.77</td>\n",
       "      <td>8.45</td>\n",
       "      <td>82.53</td>\n",
       "      <td>76.0</td>\n",
       "      <td>51.0</td>\n",
       "      <td>8</td>\n",
       "      <td>322.0</td>\n",
       "      <td>Nintendo</td>\n",
       "      <td>E</td>\n",
       "    </tr>\n",
       "    <tr>\n",
       "      <th>2</th>\n",
       "      <td>Mario Kart Wii</td>\n",
       "      <td>Wii</td>\n",
       "      <td>2008.0</td>\n",
       "      <td>Racing</td>\n",
       "      <td>Nintendo</td>\n",
       "      <td>15.68</td>\n",
       "      <td>12.76</td>\n",
       "      <td>3.79</td>\n",
       "      <td>3.29</td>\n",
       "      <td>35.52</td>\n",
       "      <td>82.0</td>\n",
       "      <td>73.0</td>\n",
       "      <td>8.3</td>\n",
       "      <td>709.0</td>\n",
       "      <td>Nintendo</td>\n",
       "      <td>E</td>\n",
       "    </tr>\n",
       "    <tr>\n",
       "      <th>3</th>\n",
       "      <td>Wii Sports Resort</td>\n",
       "      <td>Wii</td>\n",
       "      <td>2009.0</td>\n",
       "      <td>Sports</td>\n",
       "      <td>Nintendo</td>\n",
       "      <td>15.61</td>\n",
       "      <td>10.93</td>\n",
       "      <td>3.28</td>\n",
       "      <td>2.95</td>\n",
       "      <td>32.77</td>\n",
       "      <td>80.0</td>\n",
       "      <td>73.0</td>\n",
       "      <td>8</td>\n",
       "      <td>192.0</td>\n",
       "      <td>Nintendo</td>\n",
       "      <td>E</td>\n",
       "    </tr>\n",
       "    <tr>\n",
       "      <th>6</th>\n",
       "      <td>New Super Mario Bros.</td>\n",
       "      <td>DS</td>\n",
       "      <td>2006.0</td>\n",
       "      <td>Platform</td>\n",
       "      <td>Nintendo</td>\n",
       "      <td>11.28</td>\n",
       "      <td>9.14</td>\n",
       "      <td>6.50</td>\n",
       "      <td>2.88</td>\n",
       "      <td>29.80</td>\n",
       "      <td>89.0</td>\n",
       "      <td>65.0</td>\n",
       "      <td>8.5</td>\n",
       "      <td>431.0</td>\n",
       "      <td>Nintendo</td>\n",
       "      <td>E</td>\n",
       "    </tr>\n",
       "    <tr>\n",
       "      <th>7</th>\n",
       "      <td>Wii Play</td>\n",
       "      <td>Wii</td>\n",
       "      <td>2006.0</td>\n",
       "      <td>Misc</td>\n",
       "      <td>Nintendo</td>\n",
       "      <td>13.96</td>\n",
       "      <td>9.18</td>\n",
       "      <td>2.93</td>\n",
       "      <td>2.84</td>\n",
       "      <td>28.92</td>\n",
       "      <td>58.0</td>\n",
       "      <td>41.0</td>\n",
       "      <td>6.6</td>\n",
       "      <td>129.0</td>\n",
       "      <td>Nintendo</td>\n",
       "      <td>E</td>\n",
       "    </tr>\n",
       "  </tbody>\n",
       "</table>\n",
       "</div>"
      ],
      "text/plain": [
       "                    Name Platform    Year     Genre Publisher  NA_Sales  \\\n",
       "0             Wii Sports      Wii  2006.0    Sports  Nintendo     41.36   \n",
       "2         Mario Kart Wii      Wii  2008.0    Racing  Nintendo     15.68   \n",
       "3      Wii Sports Resort      Wii  2009.0    Sports  Nintendo     15.61   \n",
       "6  New Super Mario Bros.       DS  2006.0  Platform  Nintendo     11.28   \n",
       "7               Wii Play      Wii  2006.0      Misc  Nintendo     13.96   \n",
       "\n",
       "   EU_Sales  JP_Sales  Other_Sales  Global_Sales  Critic_Score  Critic_Count  \\\n",
       "0     28.96      3.77         8.45         82.53          76.0          51.0   \n",
       "2     12.76      3.79         3.29         35.52          82.0          73.0   \n",
       "3     10.93      3.28         2.95         32.77          80.0          73.0   \n",
       "6      9.14      6.50         2.88         29.80          89.0          65.0   \n",
       "7      9.18      2.93         2.84         28.92          58.0          41.0   \n",
       "\n",
       "  User_Score  User_Count Developer Rating  \n",
       "0          8       322.0  Nintendo      E  \n",
       "2        8.3       709.0  Nintendo      E  \n",
       "3          8       192.0  Nintendo      E  \n",
       "6        8.5       431.0  Nintendo      E  \n",
       "7        6.6       129.0  Nintendo      E  "
      ]
     },
     "execution_count": 11,
     "metadata": {},
     "output_type": "execute_result"
    }
   ],
   "source": [
    "videogames_clean_df=videogames_clean_df[videogames_clean_df['Year']!=0]\n",
    "videogames_clean_df.head()"
   ]
  },
  {
   "cell_type": "markdown",
   "id": "1c625ee5",
   "metadata": {},
   "source": [
    "# Line Graph of Avg Sales"
   ]
  },
  {
   "cell_type": "code",
   "execution_count": 23,
   "id": "cf550361",
   "metadata": {},
   "outputs": [
    {
     "data": {
      "application/vnd.plotly.v1+json": {
       "config": {
        "linkText": "Export to plot.ly",
        "plotlyServerURL": "https://plot.ly",
        "showLink": false
       },
       "data": [
        {
         "line": {
          "color": "Blue",
          "width": 2.5
         },
         "marker": {
          "size": 8
         },
         "mode": "lines+markers",
         "name": "North America Sales",
         "type": "scatter",
         "x": [
          "Action",
          "Adventure",
          "Fighting",
          "Misc",
          "Platform",
          "Puzzle",
          "Racing",
          "Role-Playing",
          "Shooter",
          "Simulation",
          "Sports",
          "Strategy"
         ],
         "y": [
          0.36271779141104293,
          0.15649193548387097,
          0.3608201058201059,
          0.5782552083333333,
          0.4803970223325062,
          0.2838983050847458,
          0.3882788296041308,
          0.30832865168539325,
          0.5193981481481481,
          0.3101683501683502,
          0.4851749734888653,
          0.12453183520599251
         ]
        }
       ],
       "layout": {
        "legend": {
         "font": {
          "size": 10
         },
         "orientation": "v",
         "x": 0.77,
         "y": 1.2
        },
        "plot_bgcolor": "white",
        "template": {
         "data": {
          "bar": [
           {
            "error_x": {
             "color": "#2a3f5f"
            },
            "error_y": {
             "color": "#2a3f5f"
            },
            "marker": {
             "line": {
              "color": "#E5ECF6",
              "width": 0.5
             },
             "pattern": {
              "fillmode": "overlay",
              "size": 10,
              "solidity": 0.2
             }
            },
            "type": "bar"
           }
          ],
          "barpolar": [
           {
            "marker": {
             "line": {
              "color": "#E5ECF6",
              "width": 0.5
             },
             "pattern": {
              "fillmode": "overlay",
              "size": 10,
              "solidity": 0.2
             }
            },
            "type": "barpolar"
           }
          ],
          "carpet": [
           {
            "aaxis": {
             "endlinecolor": "#2a3f5f",
             "gridcolor": "white",
             "linecolor": "white",
             "minorgridcolor": "white",
             "startlinecolor": "#2a3f5f"
            },
            "baxis": {
             "endlinecolor": "#2a3f5f",
             "gridcolor": "white",
             "linecolor": "white",
             "minorgridcolor": "white",
             "startlinecolor": "#2a3f5f"
            },
            "type": "carpet"
           }
          ],
          "choropleth": [
           {
            "colorbar": {
             "outlinewidth": 0,
             "ticks": ""
            },
            "type": "choropleth"
           }
          ],
          "contour": [
           {
            "colorbar": {
             "outlinewidth": 0,
             "ticks": ""
            },
            "colorscale": [
             [
              0,
              "#0d0887"
             ],
             [
              0.1111111111111111,
              "#46039f"
             ],
             [
              0.2222222222222222,
              "#7201a8"
             ],
             [
              0.3333333333333333,
              "#9c179e"
             ],
             [
              0.4444444444444444,
              "#bd3786"
             ],
             [
              0.5555555555555556,
              "#d8576b"
             ],
             [
              0.6666666666666666,
              "#ed7953"
             ],
             [
              0.7777777777777778,
              "#fb9f3a"
             ],
             [
              0.8888888888888888,
              "#fdca26"
             ],
             [
              1,
              "#f0f921"
             ]
            ],
            "type": "contour"
           }
          ],
          "contourcarpet": [
           {
            "colorbar": {
             "outlinewidth": 0,
             "ticks": ""
            },
            "type": "contourcarpet"
           }
          ],
          "heatmap": [
           {
            "colorbar": {
             "outlinewidth": 0,
             "ticks": ""
            },
            "colorscale": [
             [
              0,
              "#0d0887"
             ],
             [
              0.1111111111111111,
              "#46039f"
             ],
             [
              0.2222222222222222,
              "#7201a8"
             ],
             [
              0.3333333333333333,
              "#9c179e"
             ],
             [
              0.4444444444444444,
              "#bd3786"
             ],
             [
              0.5555555555555556,
              "#d8576b"
             ],
             [
              0.6666666666666666,
              "#ed7953"
             ],
             [
              0.7777777777777778,
              "#fb9f3a"
             ],
             [
              0.8888888888888888,
              "#fdca26"
             ],
             [
              1,
              "#f0f921"
             ]
            ],
            "type": "heatmap"
           }
          ],
          "heatmapgl": [
           {
            "colorbar": {
             "outlinewidth": 0,
             "ticks": ""
            },
            "colorscale": [
             [
              0,
              "#0d0887"
             ],
             [
              0.1111111111111111,
              "#46039f"
             ],
             [
              0.2222222222222222,
              "#7201a8"
             ],
             [
              0.3333333333333333,
              "#9c179e"
             ],
             [
              0.4444444444444444,
              "#bd3786"
             ],
             [
              0.5555555555555556,
              "#d8576b"
             ],
             [
              0.6666666666666666,
              "#ed7953"
             ],
             [
              0.7777777777777778,
              "#fb9f3a"
             ],
             [
              0.8888888888888888,
              "#fdca26"
             ],
             [
              1,
              "#f0f921"
             ]
            ],
            "type": "heatmapgl"
           }
          ],
          "histogram": [
           {
            "marker": {
             "pattern": {
              "fillmode": "overlay",
              "size": 10,
              "solidity": 0.2
             }
            },
            "type": "histogram"
           }
          ],
          "histogram2d": [
           {
            "colorbar": {
             "outlinewidth": 0,
             "ticks": ""
            },
            "colorscale": [
             [
              0,
              "#0d0887"
             ],
             [
              0.1111111111111111,
              "#46039f"
             ],
             [
              0.2222222222222222,
              "#7201a8"
             ],
             [
              0.3333333333333333,
              "#9c179e"
             ],
             [
              0.4444444444444444,
              "#bd3786"
             ],
             [
              0.5555555555555556,
              "#d8576b"
             ],
             [
              0.6666666666666666,
              "#ed7953"
             ],
             [
              0.7777777777777778,
              "#fb9f3a"
             ],
             [
              0.8888888888888888,
              "#fdca26"
             ],
             [
              1,
              "#f0f921"
             ]
            ],
            "type": "histogram2d"
           }
          ],
          "histogram2dcontour": [
           {
            "colorbar": {
             "outlinewidth": 0,
             "ticks": ""
            },
            "colorscale": [
             [
              0,
              "#0d0887"
             ],
             [
              0.1111111111111111,
              "#46039f"
             ],
             [
              0.2222222222222222,
              "#7201a8"
             ],
             [
              0.3333333333333333,
              "#9c179e"
             ],
             [
              0.4444444444444444,
              "#bd3786"
             ],
             [
              0.5555555555555556,
              "#d8576b"
             ],
             [
              0.6666666666666666,
              "#ed7953"
             ],
             [
              0.7777777777777778,
              "#fb9f3a"
             ],
             [
              0.8888888888888888,
              "#fdca26"
             ],
             [
              1,
              "#f0f921"
             ]
            ],
            "type": "histogram2dcontour"
           }
          ],
          "mesh3d": [
           {
            "colorbar": {
             "outlinewidth": 0,
             "ticks": ""
            },
            "type": "mesh3d"
           }
          ],
          "parcoords": [
           {
            "line": {
             "colorbar": {
              "outlinewidth": 0,
              "ticks": ""
             }
            },
            "type": "parcoords"
           }
          ],
          "pie": [
           {
            "automargin": true,
            "type": "pie"
           }
          ],
          "scatter": [
           {
            "fillpattern": {
             "fillmode": "overlay",
             "size": 10,
             "solidity": 0.2
            },
            "type": "scatter"
           }
          ],
          "scatter3d": [
           {
            "line": {
             "colorbar": {
              "outlinewidth": 0,
              "ticks": ""
             }
            },
            "marker": {
             "colorbar": {
              "outlinewidth": 0,
              "ticks": ""
             }
            },
            "type": "scatter3d"
           }
          ],
          "scattercarpet": [
           {
            "marker": {
             "colorbar": {
              "outlinewidth": 0,
              "ticks": ""
             }
            },
            "type": "scattercarpet"
           }
          ],
          "scattergeo": [
           {
            "marker": {
             "colorbar": {
              "outlinewidth": 0,
              "ticks": ""
             }
            },
            "type": "scattergeo"
           }
          ],
          "scattergl": [
           {
            "marker": {
             "colorbar": {
              "outlinewidth": 0,
              "ticks": ""
             }
            },
            "type": "scattergl"
           }
          ],
          "scattermapbox": [
           {
            "marker": {
             "colorbar": {
              "outlinewidth": 0,
              "ticks": ""
             }
            },
            "type": "scattermapbox"
           }
          ],
          "scatterpolar": [
           {
            "marker": {
             "colorbar": {
              "outlinewidth": 0,
              "ticks": ""
             }
            },
            "type": "scatterpolar"
           }
          ],
          "scatterpolargl": [
           {
            "marker": {
             "colorbar": {
              "outlinewidth": 0,
              "ticks": ""
             }
            },
            "type": "scatterpolargl"
           }
          ],
          "scatterternary": [
           {
            "marker": {
             "colorbar": {
              "outlinewidth": 0,
              "ticks": ""
             }
            },
            "type": "scatterternary"
           }
          ],
          "surface": [
           {
            "colorbar": {
             "outlinewidth": 0,
             "ticks": ""
            },
            "colorscale": [
             [
              0,
              "#0d0887"
             ],
             [
              0.1111111111111111,
              "#46039f"
             ],
             [
              0.2222222222222222,
              "#7201a8"
             ],
             [
              0.3333333333333333,
              "#9c179e"
             ],
             [
              0.4444444444444444,
              "#bd3786"
             ],
             [
              0.5555555555555556,
              "#d8576b"
             ],
             [
              0.6666666666666666,
              "#ed7953"
             ],
             [
              0.7777777777777778,
              "#fb9f3a"
             ],
             [
              0.8888888888888888,
              "#fdca26"
             ],
             [
              1,
              "#f0f921"
             ]
            ],
            "type": "surface"
           }
          ],
          "table": [
           {
            "cells": {
             "fill": {
              "color": "#EBF0F8"
             },
             "line": {
              "color": "white"
             }
            },
            "header": {
             "fill": {
              "color": "#C8D4E3"
             },
             "line": {
              "color": "white"
             }
            },
            "type": "table"
           }
          ]
         },
         "layout": {
          "annotationdefaults": {
           "arrowcolor": "#2a3f5f",
           "arrowhead": 0,
           "arrowwidth": 1
          },
          "autotypenumbers": "strict",
          "coloraxis": {
           "colorbar": {
            "outlinewidth": 0,
            "ticks": ""
           }
          },
          "colorscale": {
           "diverging": [
            [
             0,
             "#8e0152"
            ],
            [
             0.1,
             "#c51b7d"
            ],
            [
             0.2,
             "#de77ae"
            ],
            [
             0.3,
             "#f1b6da"
            ],
            [
             0.4,
             "#fde0ef"
            ],
            [
             0.5,
             "#f7f7f7"
            ],
            [
             0.6,
             "#e6f5d0"
            ],
            [
             0.7,
             "#b8e186"
            ],
            [
             0.8,
             "#7fbc41"
            ],
            [
             0.9,
             "#4d9221"
            ],
            [
             1,
             "#276419"
            ]
           ],
           "sequential": [
            [
             0,
             "#0d0887"
            ],
            [
             0.1111111111111111,
             "#46039f"
            ],
            [
             0.2222222222222222,
             "#7201a8"
            ],
            [
             0.3333333333333333,
             "#9c179e"
            ],
            [
             0.4444444444444444,
             "#bd3786"
            ],
            [
             0.5555555555555556,
             "#d8576b"
            ],
            [
             0.6666666666666666,
             "#ed7953"
            ],
            [
             0.7777777777777778,
             "#fb9f3a"
            ],
            [
             0.8888888888888888,
             "#fdca26"
            ],
            [
             1,
             "#f0f921"
            ]
           ],
           "sequentialminus": [
            [
             0,
             "#0d0887"
            ],
            [
             0.1111111111111111,
             "#46039f"
            ],
            [
             0.2222222222222222,
             "#7201a8"
            ],
            [
             0.3333333333333333,
             "#9c179e"
            ],
            [
             0.4444444444444444,
             "#bd3786"
            ],
            [
             0.5555555555555556,
             "#d8576b"
            ],
            [
             0.6666666666666666,
             "#ed7953"
            ],
            [
             0.7777777777777778,
             "#fb9f3a"
            ],
            [
             0.8888888888888888,
             "#fdca26"
            ],
            [
             1,
             "#f0f921"
            ]
           ]
          },
          "colorway": [
           "#636efa",
           "#EF553B",
           "#00cc96",
           "#ab63fa",
           "#FFA15A",
           "#19d3f3",
           "#FF6692",
           "#B6E880",
           "#FF97FF",
           "#FECB52"
          ],
          "font": {
           "color": "#2a3f5f"
          },
          "geo": {
           "bgcolor": "white",
           "lakecolor": "white",
           "landcolor": "#E5ECF6",
           "showlakes": true,
           "showland": true,
           "subunitcolor": "white"
          },
          "hoverlabel": {
           "align": "left"
          },
          "hovermode": "closest",
          "mapbox": {
           "style": "light"
          },
          "paper_bgcolor": "white",
          "plot_bgcolor": "#E5ECF6",
          "polar": {
           "angularaxis": {
            "gridcolor": "white",
            "linecolor": "white",
            "ticks": ""
           },
           "bgcolor": "#E5ECF6",
           "radialaxis": {
            "gridcolor": "white",
            "linecolor": "white",
            "ticks": ""
           }
          },
          "scene": {
           "xaxis": {
            "backgroundcolor": "#E5ECF6",
            "gridcolor": "white",
            "gridwidth": 2,
            "linecolor": "white",
            "showbackground": true,
            "ticks": "",
            "zerolinecolor": "white"
           },
           "yaxis": {
            "backgroundcolor": "#E5ECF6",
            "gridcolor": "white",
            "gridwidth": 2,
            "linecolor": "white",
            "showbackground": true,
            "ticks": "",
            "zerolinecolor": "white"
           },
           "zaxis": {
            "backgroundcolor": "#E5ECF6",
            "gridcolor": "white",
            "gridwidth": 2,
            "linecolor": "white",
            "showbackground": true,
            "ticks": "",
            "zerolinecolor": "white"
           }
          },
          "shapedefaults": {
           "line": {
            "color": "#2a3f5f"
           }
          },
          "ternary": {
           "aaxis": {
            "gridcolor": "white",
            "linecolor": "white",
            "ticks": ""
           },
           "baxis": {
            "gridcolor": "white",
            "linecolor": "white",
            "ticks": ""
           },
           "bgcolor": "#E5ECF6",
           "caxis": {
            "gridcolor": "white",
            "linecolor": "white",
            "ticks": ""
           }
          },
          "title": {
           "x": 0.05
          },
          "xaxis": {
           "automargin": true,
           "gridcolor": "white",
           "linecolor": "white",
           "ticks": "",
           "title": {
            "standoff": 15
           },
           "zerolinecolor": "white",
           "zerolinewidth": 2
          },
          "yaxis": {
           "automargin": true,
           "gridcolor": "white",
           "linecolor": "white",
           "ticks": "",
           "title": {
            "standoff": 15
           },
           "zerolinecolor": "white",
           "zerolinewidth": 2
          }
         }
        },
        "title": {
         "text": "Average Sales of Different Genre Games"
        },
        "xaxis": {
         "gridcolor": "white",
         "tickfont": {
          "size": 8.35
         },
         "title": {
          "text": "Genre"
         },
         "zeroline": false
        },
        "yaxis": {
         "gridcolor": "#DCDCDC",
         "title": {
          "text": "Average Sales in North America"
         }
        }
       }
      },
      "text/html": [
       "<div>                            <div id=\"ba1944e4-81eb-4719-b4a5-f51a1d53133e\" class=\"plotly-graph-div\" style=\"height:525px; width:100%;\"></div>            <script type=\"text/javascript\">                require([\"plotly\"], function(Plotly) {                    window.PLOTLYENV=window.PLOTLYENV || {};                                    if (document.getElementById(\"ba1944e4-81eb-4719-b4a5-f51a1d53133e\")) {                    Plotly.newPlot(                        \"ba1944e4-81eb-4719-b4a5-f51a1d53133e\",                        [{\"line\":{\"color\":\"Blue\",\"width\":2.5},\"marker\":{\"size\":8},\"mode\":\"lines+markers\",\"name\":\"North America Sales\",\"x\":[\"Action\",\"Adventure\",\"Fighting\",\"Misc\",\"Platform\",\"Puzzle\",\"Racing\",\"Role-Playing\",\"Shooter\",\"Simulation\",\"Sports\",\"Strategy\"],\"y\":[0.36271779141104293,0.15649193548387097,0.3608201058201059,0.5782552083333333,0.4803970223325062,0.2838983050847458,0.3882788296041308,0.30832865168539325,0.5193981481481481,0.3101683501683502,0.4851749734888653,0.12453183520599251],\"type\":\"scatter\"}],                        {\"legend\":{\"font\":{\"size\":10},\"orientation\":\"v\",\"x\":0.77,\"y\":1.2},\"plot_bgcolor\":\"white\",\"template\":{\"data\":{\"barpolar\":[{\"marker\":{\"line\":{\"color\":\"#E5ECF6\",\"width\":0.5},\"pattern\":{\"fillmode\":\"overlay\",\"size\":10,\"solidity\":0.2}},\"type\":\"barpolar\"}],\"bar\":[{\"error_x\":{\"color\":\"#2a3f5f\"},\"error_y\":{\"color\":\"#2a3f5f\"},\"marker\":{\"line\":{\"color\":\"#E5ECF6\",\"width\":0.5},\"pattern\":{\"fillmode\":\"overlay\",\"size\":10,\"solidity\":0.2}},\"type\":\"bar\"}],\"carpet\":[{\"aaxis\":{\"endlinecolor\":\"#2a3f5f\",\"gridcolor\":\"white\",\"linecolor\":\"white\",\"minorgridcolor\":\"white\",\"startlinecolor\":\"#2a3f5f\"},\"baxis\":{\"endlinecolor\":\"#2a3f5f\",\"gridcolor\":\"white\",\"linecolor\":\"white\",\"minorgridcolor\":\"white\",\"startlinecolor\":\"#2a3f5f\"},\"type\":\"carpet\"}],\"choropleth\":[{\"colorbar\":{\"outlinewidth\":0,\"ticks\":\"\"},\"type\":\"choropleth\"}],\"contourcarpet\":[{\"colorbar\":{\"outlinewidth\":0,\"ticks\":\"\"},\"type\":\"contourcarpet\"}],\"contour\":[{\"colorbar\":{\"outlinewidth\":0,\"ticks\":\"\"},\"colorscale\":[[0.0,\"#0d0887\"],[0.1111111111111111,\"#46039f\"],[0.2222222222222222,\"#7201a8\"],[0.3333333333333333,\"#9c179e\"],[0.4444444444444444,\"#bd3786\"],[0.5555555555555556,\"#d8576b\"],[0.6666666666666666,\"#ed7953\"],[0.7777777777777778,\"#fb9f3a\"],[0.8888888888888888,\"#fdca26\"],[1.0,\"#f0f921\"]],\"type\":\"contour\"}],\"heatmapgl\":[{\"colorbar\":{\"outlinewidth\":0,\"ticks\":\"\"},\"colorscale\":[[0.0,\"#0d0887\"],[0.1111111111111111,\"#46039f\"],[0.2222222222222222,\"#7201a8\"],[0.3333333333333333,\"#9c179e\"],[0.4444444444444444,\"#bd3786\"],[0.5555555555555556,\"#d8576b\"],[0.6666666666666666,\"#ed7953\"],[0.7777777777777778,\"#fb9f3a\"],[0.8888888888888888,\"#fdca26\"],[1.0,\"#f0f921\"]],\"type\":\"heatmapgl\"}],\"heatmap\":[{\"colorbar\":{\"outlinewidth\":0,\"ticks\":\"\"},\"colorscale\":[[0.0,\"#0d0887\"],[0.1111111111111111,\"#46039f\"],[0.2222222222222222,\"#7201a8\"],[0.3333333333333333,\"#9c179e\"],[0.4444444444444444,\"#bd3786\"],[0.5555555555555556,\"#d8576b\"],[0.6666666666666666,\"#ed7953\"],[0.7777777777777778,\"#fb9f3a\"],[0.8888888888888888,\"#fdca26\"],[1.0,\"#f0f921\"]],\"type\":\"heatmap\"}],\"histogram2dcontour\":[{\"colorbar\":{\"outlinewidth\":0,\"ticks\":\"\"},\"colorscale\":[[0.0,\"#0d0887\"],[0.1111111111111111,\"#46039f\"],[0.2222222222222222,\"#7201a8\"],[0.3333333333333333,\"#9c179e\"],[0.4444444444444444,\"#bd3786\"],[0.5555555555555556,\"#d8576b\"],[0.6666666666666666,\"#ed7953\"],[0.7777777777777778,\"#fb9f3a\"],[0.8888888888888888,\"#fdca26\"],[1.0,\"#f0f921\"]],\"type\":\"histogram2dcontour\"}],\"histogram2d\":[{\"colorbar\":{\"outlinewidth\":0,\"ticks\":\"\"},\"colorscale\":[[0.0,\"#0d0887\"],[0.1111111111111111,\"#46039f\"],[0.2222222222222222,\"#7201a8\"],[0.3333333333333333,\"#9c179e\"],[0.4444444444444444,\"#bd3786\"],[0.5555555555555556,\"#d8576b\"],[0.6666666666666666,\"#ed7953\"],[0.7777777777777778,\"#fb9f3a\"],[0.8888888888888888,\"#fdca26\"],[1.0,\"#f0f921\"]],\"type\":\"histogram2d\"}],\"histogram\":[{\"marker\":{\"pattern\":{\"fillmode\":\"overlay\",\"size\":10,\"solidity\":0.2}},\"type\":\"histogram\"}],\"mesh3d\":[{\"colorbar\":{\"outlinewidth\":0,\"ticks\":\"\"},\"type\":\"mesh3d\"}],\"parcoords\":[{\"line\":{\"colorbar\":{\"outlinewidth\":0,\"ticks\":\"\"}},\"type\":\"parcoords\"}],\"pie\":[{\"automargin\":true,\"type\":\"pie\"}],\"scatter3d\":[{\"line\":{\"colorbar\":{\"outlinewidth\":0,\"ticks\":\"\"}},\"marker\":{\"colorbar\":{\"outlinewidth\":0,\"ticks\":\"\"}},\"type\":\"scatter3d\"}],\"scattercarpet\":[{\"marker\":{\"colorbar\":{\"outlinewidth\":0,\"ticks\":\"\"}},\"type\":\"scattercarpet\"}],\"scattergeo\":[{\"marker\":{\"colorbar\":{\"outlinewidth\":0,\"ticks\":\"\"}},\"type\":\"scattergeo\"}],\"scattergl\":[{\"marker\":{\"colorbar\":{\"outlinewidth\":0,\"ticks\":\"\"}},\"type\":\"scattergl\"}],\"scattermapbox\":[{\"marker\":{\"colorbar\":{\"outlinewidth\":0,\"ticks\":\"\"}},\"type\":\"scattermapbox\"}],\"scatterpolargl\":[{\"marker\":{\"colorbar\":{\"outlinewidth\":0,\"ticks\":\"\"}},\"type\":\"scatterpolargl\"}],\"scatterpolar\":[{\"marker\":{\"colorbar\":{\"outlinewidth\":0,\"ticks\":\"\"}},\"type\":\"scatterpolar\"}],\"scatter\":[{\"fillpattern\":{\"fillmode\":\"overlay\",\"size\":10,\"solidity\":0.2},\"type\":\"scatter\"}],\"scatterternary\":[{\"marker\":{\"colorbar\":{\"outlinewidth\":0,\"ticks\":\"\"}},\"type\":\"scatterternary\"}],\"surface\":[{\"colorbar\":{\"outlinewidth\":0,\"ticks\":\"\"},\"colorscale\":[[0.0,\"#0d0887\"],[0.1111111111111111,\"#46039f\"],[0.2222222222222222,\"#7201a8\"],[0.3333333333333333,\"#9c179e\"],[0.4444444444444444,\"#bd3786\"],[0.5555555555555556,\"#d8576b\"],[0.6666666666666666,\"#ed7953\"],[0.7777777777777778,\"#fb9f3a\"],[0.8888888888888888,\"#fdca26\"],[1.0,\"#f0f921\"]],\"type\":\"surface\"}],\"table\":[{\"cells\":{\"fill\":{\"color\":\"#EBF0F8\"},\"line\":{\"color\":\"white\"}},\"header\":{\"fill\":{\"color\":\"#C8D4E3\"},\"line\":{\"color\":\"white\"}},\"type\":\"table\"}]},\"layout\":{\"annotationdefaults\":{\"arrowcolor\":\"#2a3f5f\",\"arrowhead\":0,\"arrowwidth\":1},\"autotypenumbers\":\"strict\",\"coloraxis\":{\"colorbar\":{\"outlinewidth\":0,\"ticks\":\"\"}},\"colorscale\":{\"diverging\":[[0,\"#8e0152\"],[0.1,\"#c51b7d\"],[0.2,\"#de77ae\"],[0.3,\"#f1b6da\"],[0.4,\"#fde0ef\"],[0.5,\"#f7f7f7\"],[0.6,\"#e6f5d0\"],[0.7,\"#b8e186\"],[0.8,\"#7fbc41\"],[0.9,\"#4d9221\"],[1,\"#276419\"]],\"sequential\":[[0.0,\"#0d0887\"],[0.1111111111111111,\"#46039f\"],[0.2222222222222222,\"#7201a8\"],[0.3333333333333333,\"#9c179e\"],[0.4444444444444444,\"#bd3786\"],[0.5555555555555556,\"#d8576b\"],[0.6666666666666666,\"#ed7953\"],[0.7777777777777778,\"#fb9f3a\"],[0.8888888888888888,\"#fdca26\"],[1.0,\"#f0f921\"]],\"sequentialminus\":[[0.0,\"#0d0887\"],[0.1111111111111111,\"#46039f\"],[0.2222222222222222,\"#7201a8\"],[0.3333333333333333,\"#9c179e\"],[0.4444444444444444,\"#bd3786\"],[0.5555555555555556,\"#d8576b\"],[0.6666666666666666,\"#ed7953\"],[0.7777777777777778,\"#fb9f3a\"],[0.8888888888888888,\"#fdca26\"],[1.0,\"#f0f921\"]]},\"colorway\":[\"#636efa\",\"#EF553B\",\"#00cc96\",\"#ab63fa\",\"#FFA15A\",\"#19d3f3\",\"#FF6692\",\"#B6E880\",\"#FF97FF\",\"#FECB52\"],\"font\":{\"color\":\"#2a3f5f\"},\"geo\":{\"bgcolor\":\"white\",\"lakecolor\":\"white\",\"landcolor\":\"#E5ECF6\",\"showlakes\":true,\"showland\":true,\"subunitcolor\":\"white\"},\"hoverlabel\":{\"align\":\"left\"},\"hovermode\":\"closest\",\"mapbox\":{\"style\":\"light\"},\"paper_bgcolor\":\"white\",\"plot_bgcolor\":\"#E5ECF6\",\"polar\":{\"angularaxis\":{\"gridcolor\":\"white\",\"linecolor\":\"white\",\"ticks\":\"\"},\"bgcolor\":\"#E5ECF6\",\"radialaxis\":{\"gridcolor\":\"white\",\"linecolor\":\"white\",\"ticks\":\"\"}},\"scene\":{\"xaxis\":{\"backgroundcolor\":\"#E5ECF6\",\"gridcolor\":\"white\",\"gridwidth\":2,\"linecolor\":\"white\",\"showbackground\":true,\"ticks\":\"\",\"zerolinecolor\":\"white\"},\"yaxis\":{\"backgroundcolor\":\"#E5ECF6\",\"gridcolor\":\"white\",\"gridwidth\":2,\"linecolor\":\"white\",\"showbackground\":true,\"ticks\":\"\",\"zerolinecolor\":\"white\"},\"zaxis\":{\"backgroundcolor\":\"#E5ECF6\",\"gridcolor\":\"white\",\"gridwidth\":2,\"linecolor\":\"white\",\"showbackground\":true,\"ticks\":\"\",\"zerolinecolor\":\"white\"}},\"shapedefaults\":{\"line\":{\"color\":\"#2a3f5f\"}},\"ternary\":{\"aaxis\":{\"gridcolor\":\"white\",\"linecolor\":\"white\",\"ticks\":\"\"},\"baxis\":{\"gridcolor\":\"white\",\"linecolor\":\"white\",\"ticks\":\"\"},\"bgcolor\":\"#E5ECF6\",\"caxis\":{\"gridcolor\":\"white\",\"linecolor\":\"white\",\"ticks\":\"\"}},\"title\":{\"x\":0.05},\"xaxis\":{\"automargin\":true,\"gridcolor\":\"white\",\"linecolor\":\"white\",\"ticks\":\"\",\"title\":{\"standoff\":15},\"zerolinecolor\":\"white\",\"zerolinewidth\":2},\"yaxis\":{\"automargin\":true,\"gridcolor\":\"white\",\"linecolor\":\"white\",\"ticks\":\"\",\"title\":{\"standoff\":15},\"zerolinecolor\":\"white\",\"zerolinewidth\":2}}},\"title\":{\"text\":\"Average Sales of Different Genre Games\"},\"xaxis\":{\"gridcolor\":\"white\",\"tickfont\":{\"size\":8.35},\"title\":{\"text\":\"Genre\"},\"zeroline\":false},\"yaxis\":{\"gridcolor\":\"#DCDCDC\",\"title\":{\"text\":\"Average Sales in North America\"}}},                        {\"responsive\": true}                    ).then(function(){\n",
       "                            \n",
       "var gd = document.getElementById('ba1944e4-81eb-4719-b4a5-f51a1d53133e');\n",
       "var x = new MutationObserver(function (mutations, observer) {{\n",
       "        var display = window.getComputedStyle(gd).display;\n",
       "        if (!display || display === 'none') {{\n",
       "            console.log([gd, 'removed!']);\n",
       "            Plotly.purge(gd);\n",
       "            observer.disconnect();\n",
       "        }}\n",
       "}});\n",
       "\n",
       "// Listen for the removal of the full notebook cells\n",
       "var notebookContainer = gd.closest('#notebook-container');\n",
       "if (notebookContainer) {{\n",
       "    x.observe(notebookContainer, {childList: true});\n",
       "}}\n",
       "\n",
       "// Listen for the clearing of the current output cell\n",
       "var outputEl = gd.closest('.output');\n",
       "if (outputEl) {{\n",
       "    x.observe(outputEl, {childList: true});\n",
       "}}\n",
       "\n",
       "                        })                };                });            </script>        </div>"
      ]
     },
     "metadata": {},
     "output_type": "display_data"
    }
   ],
   "source": [
    "#Create line graph of information\n",
    "#Find Average Sales in North America by Genre\n",
    "sns.set_style(\"whitegrid\")\n",
    "line1=go.Scatter(\n",
    "                x=videogames_clean_df.groupby(['Genre']).mean().reset_index()['Genre'],\n",
    "                y=videogames_clean_df.groupby(['Genre']).mean().reset_index()['NA_Sales'],\n",
    "                mode='lines+markers',\n",
    "                name='North America Sales',\n",
    "                marker=dict(size=8),\n",
    "                line=dict(color='Blue',width=2.5))\n",
    "layout=dict(\n",
    "            legend=dict(x=0.77, y=1.2, font=dict(size=10)), legend_orientation=\"v\",\n",
    "            title=\"Average Sales of Different Genre Games\",\n",
    "            xaxis=dict(title=\"Genre\",tickfont=dict(size=8.35),zeroline=False,gridcolor=\"white\"),\n",
    "            yaxis=dict(title='Average Sales in North America',gridcolor=\"#DCDCDC\"),\n",
    "            plot_bgcolor='white')\n",
    "fig=dict(data=line1,layout=layout)\n",
    "iplot(fig)"
   ]
  },
  {
   "cell_type": "markdown",
   "id": "0b28e896",
   "metadata": {},
   "source": [
    "According to North America sales, consumers prefer Platform and Shooter type of video games.\n",
    "\n",
    "We see that Platform games like Super Mario Bros. and Shoot style games like Call of Duty and Grand Theft Auto sell the most in North America."
   ]
  },
  {
   "cell_type": "markdown",
   "id": "f9eee819",
   "metadata": {},
   "source": [
    "\n",
    "# Number of Games Released per year"
   ]
  },
  {
   "cell_type": "markdown",
   "id": "236a3e2b",
   "metadata": {},
   "source": [
    "Using a bar chart"
   ]
  },
  {
   "cell_type": "code",
   "execution_count": 13,
   "id": "09207a31",
   "metadata": {},
   "outputs": [
    {
     "data": {
      "text/html": [
       "<div>\n",
       "<style scoped>\n",
       "    .dataframe tbody tr th:only-of-type {\n",
       "        vertical-align: middle;\n",
       "    }\n",
       "\n",
       "    .dataframe tbody tr th {\n",
       "        vertical-align: top;\n",
       "    }\n",
       "\n",
       "    .dataframe thead th {\n",
       "        text-align: right;\n",
       "    }\n",
       "</style>\n",
       "<table border=\"1\" class=\"dataframe\">\n",
       "  <thead>\n",
       "    <tr style=\"text-align: right;\">\n",
       "      <th></th>\n",
       "      <th>Name</th>\n",
       "      <th>Platform</th>\n",
       "      <th>Year</th>\n",
       "      <th>Genre</th>\n",
       "      <th>Publisher</th>\n",
       "      <th>NA_Sales</th>\n",
       "      <th>EU_Sales</th>\n",
       "      <th>JP_Sales</th>\n",
       "      <th>Other_Sales</th>\n",
       "      <th>Global_Sales</th>\n",
       "      <th>Critic_Score</th>\n",
       "      <th>Critic_Count</th>\n",
       "      <th>User_Score</th>\n",
       "      <th>User_Count</th>\n",
       "      <th>Developer</th>\n",
       "      <th>Rating</th>\n",
       "    </tr>\n",
       "  </thead>\n",
       "  <tbody>\n",
       "    <tr>\n",
       "      <th>0</th>\n",
       "      <td>Wii Sports</td>\n",
       "      <td>Wii</td>\n",
       "      <td>2006.0</td>\n",
       "      <td>Sports</td>\n",
       "      <td>Nintendo</td>\n",
       "      <td>41.36</td>\n",
       "      <td>28.96</td>\n",
       "      <td>3.77</td>\n",
       "      <td>8.45</td>\n",
       "      <td>82.53</td>\n",
       "      <td>76.0</td>\n",
       "      <td>51.0</td>\n",
       "      <td>8</td>\n",
       "      <td>322.0</td>\n",
       "      <td>Nintendo</td>\n",
       "      <td>E</td>\n",
       "    </tr>\n",
       "    <tr>\n",
       "      <th>2</th>\n",
       "      <td>Mario Kart Wii</td>\n",
       "      <td>Wii</td>\n",
       "      <td>2008.0</td>\n",
       "      <td>Racing</td>\n",
       "      <td>Nintendo</td>\n",
       "      <td>15.68</td>\n",
       "      <td>12.76</td>\n",
       "      <td>3.79</td>\n",
       "      <td>3.29</td>\n",
       "      <td>35.52</td>\n",
       "      <td>82.0</td>\n",
       "      <td>73.0</td>\n",
       "      <td>8.3</td>\n",
       "      <td>709.0</td>\n",
       "      <td>Nintendo</td>\n",
       "      <td>E</td>\n",
       "    </tr>\n",
       "    <tr>\n",
       "      <th>3</th>\n",
       "      <td>Wii Sports Resort</td>\n",
       "      <td>Wii</td>\n",
       "      <td>2009.0</td>\n",
       "      <td>Sports</td>\n",
       "      <td>Nintendo</td>\n",
       "      <td>15.61</td>\n",
       "      <td>10.93</td>\n",
       "      <td>3.28</td>\n",
       "      <td>2.95</td>\n",
       "      <td>32.77</td>\n",
       "      <td>80.0</td>\n",
       "      <td>73.0</td>\n",
       "      <td>8</td>\n",
       "      <td>192.0</td>\n",
       "      <td>Nintendo</td>\n",
       "      <td>E</td>\n",
       "    </tr>\n",
       "    <tr>\n",
       "      <th>6</th>\n",
       "      <td>New Super Mario Bros.</td>\n",
       "      <td>DS</td>\n",
       "      <td>2006.0</td>\n",
       "      <td>Platform</td>\n",
       "      <td>Nintendo</td>\n",
       "      <td>11.28</td>\n",
       "      <td>9.14</td>\n",
       "      <td>6.50</td>\n",
       "      <td>2.88</td>\n",
       "      <td>29.80</td>\n",
       "      <td>89.0</td>\n",
       "      <td>65.0</td>\n",
       "      <td>8.5</td>\n",
       "      <td>431.0</td>\n",
       "      <td>Nintendo</td>\n",
       "      <td>E</td>\n",
       "    </tr>\n",
       "    <tr>\n",
       "      <th>7</th>\n",
       "      <td>Wii Play</td>\n",
       "      <td>Wii</td>\n",
       "      <td>2006.0</td>\n",
       "      <td>Misc</td>\n",
       "      <td>Nintendo</td>\n",
       "      <td>13.96</td>\n",
       "      <td>9.18</td>\n",
       "      <td>2.93</td>\n",
       "      <td>2.84</td>\n",
       "      <td>28.92</td>\n",
       "      <td>58.0</td>\n",
       "      <td>41.0</td>\n",
       "      <td>6.6</td>\n",
       "      <td>129.0</td>\n",
       "      <td>Nintendo</td>\n",
       "      <td>E</td>\n",
       "    </tr>\n",
       "    <tr>\n",
       "      <th>...</th>\n",
       "      <td>...</td>\n",
       "      <td>...</td>\n",
       "      <td>...</td>\n",
       "      <td>...</td>\n",
       "      <td>...</td>\n",
       "      <td>...</td>\n",
       "      <td>...</td>\n",
       "      <td>...</td>\n",
       "      <td>...</td>\n",
       "      <td>...</td>\n",
       "      <td>...</td>\n",
       "      <td>...</td>\n",
       "      <td>...</td>\n",
       "      <td>...</td>\n",
       "      <td>...</td>\n",
       "      <td>...</td>\n",
       "    </tr>\n",
       "    <tr>\n",
       "      <th>16667</th>\n",
       "      <td>E.T. The Extra-Terrestrial</td>\n",
       "      <td>GBA</td>\n",
       "      <td>2001.0</td>\n",
       "      <td>Action</td>\n",
       "      <td>NewKidCo</td>\n",
       "      <td>0.01</td>\n",
       "      <td>0.00</td>\n",
       "      <td>0.00</td>\n",
       "      <td>0.00</td>\n",
       "      <td>0.01</td>\n",
       "      <td>46.0</td>\n",
       "      <td>4.0</td>\n",
       "      <td>2.4</td>\n",
       "      <td>21.0</td>\n",
       "      <td>Fluid Studios</td>\n",
       "      <td>E</td>\n",
       "    </tr>\n",
       "    <tr>\n",
       "      <th>16677</th>\n",
       "      <td>Mortal Kombat: Deadly Alliance</td>\n",
       "      <td>GBA</td>\n",
       "      <td>2002.0</td>\n",
       "      <td>Fighting</td>\n",
       "      <td>Midway Games</td>\n",
       "      <td>0.01</td>\n",
       "      <td>0.00</td>\n",
       "      <td>0.00</td>\n",
       "      <td>0.00</td>\n",
       "      <td>0.01</td>\n",
       "      <td>81.0</td>\n",
       "      <td>12.0</td>\n",
       "      <td>8.8</td>\n",
       "      <td>9.0</td>\n",
       "      <td>Criterion Games</td>\n",
       "      <td>M</td>\n",
       "    </tr>\n",
       "    <tr>\n",
       "      <th>16696</th>\n",
       "      <td>Metal Gear Solid V: Ground Zeroes</td>\n",
       "      <td>PC</td>\n",
       "      <td>2014.0</td>\n",
       "      <td>Action</td>\n",
       "      <td>Konami Digital Entertainment</td>\n",
       "      <td>0.00</td>\n",
       "      <td>0.01</td>\n",
       "      <td>0.00</td>\n",
       "      <td>0.00</td>\n",
       "      <td>0.01</td>\n",
       "      <td>80.0</td>\n",
       "      <td>20.0</td>\n",
       "      <td>7.6</td>\n",
       "      <td>412.0</td>\n",
       "      <td>Kojima Productions</td>\n",
       "      <td>M</td>\n",
       "    </tr>\n",
       "    <tr>\n",
       "      <th>16700</th>\n",
       "      <td>Breach</td>\n",
       "      <td>PC</td>\n",
       "      <td>2011.0</td>\n",
       "      <td>Shooter</td>\n",
       "      <td>Destineer</td>\n",
       "      <td>0.01</td>\n",
       "      <td>0.00</td>\n",
       "      <td>0.00</td>\n",
       "      <td>0.00</td>\n",
       "      <td>0.01</td>\n",
       "      <td>61.0</td>\n",
       "      <td>12.0</td>\n",
       "      <td>5.8</td>\n",
       "      <td>43.0</td>\n",
       "      <td>Atomic Games</td>\n",
       "      <td>T</td>\n",
       "    </tr>\n",
       "    <tr>\n",
       "      <th>16706</th>\n",
       "      <td>STORM: Frontline Nation</td>\n",
       "      <td>PC</td>\n",
       "      <td>2011.0</td>\n",
       "      <td>Strategy</td>\n",
       "      <td>Unknown</td>\n",
       "      <td>0.00</td>\n",
       "      <td>0.01</td>\n",
       "      <td>0.00</td>\n",
       "      <td>0.00</td>\n",
       "      <td>0.01</td>\n",
       "      <td>60.0</td>\n",
       "      <td>12.0</td>\n",
       "      <td>7.2</td>\n",
       "      <td>13.0</td>\n",
       "      <td>SimBin</td>\n",
       "      <td>E10+</td>\n",
       "    </tr>\n",
       "  </tbody>\n",
       "</table>\n",
       "<p>6825 rows × 16 columns</p>\n",
       "</div>"
      ],
      "text/plain": [
       "                                    Name Platform    Year     Genre  \\\n",
       "0                             Wii Sports      Wii  2006.0    Sports   \n",
       "2                         Mario Kart Wii      Wii  2008.0    Racing   \n",
       "3                      Wii Sports Resort      Wii  2009.0    Sports   \n",
       "6                  New Super Mario Bros.       DS  2006.0  Platform   \n",
       "7                               Wii Play      Wii  2006.0      Misc   \n",
       "...                                  ...      ...     ...       ...   \n",
       "16667         E.T. The Extra-Terrestrial      GBA  2001.0    Action   \n",
       "16677     Mortal Kombat: Deadly Alliance      GBA  2002.0  Fighting   \n",
       "16696  Metal Gear Solid V: Ground Zeroes       PC  2014.0    Action   \n",
       "16700                             Breach       PC  2011.0   Shooter   \n",
       "16706            STORM: Frontline Nation       PC  2011.0  Strategy   \n",
       "\n",
       "                          Publisher  NA_Sales  EU_Sales  JP_Sales  \\\n",
       "0                          Nintendo     41.36     28.96      3.77   \n",
       "2                          Nintendo     15.68     12.76      3.79   \n",
       "3                          Nintendo     15.61     10.93      3.28   \n",
       "6                          Nintendo     11.28      9.14      6.50   \n",
       "7                          Nintendo     13.96      9.18      2.93   \n",
       "...                             ...       ...       ...       ...   \n",
       "16667                      NewKidCo      0.01      0.00      0.00   \n",
       "16677                  Midway Games      0.01      0.00      0.00   \n",
       "16696  Konami Digital Entertainment      0.00      0.01      0.00   \n",
       "16700                     Destineer      0.01      0.00      0.00   \n",
       "16706                       Unknown      0.00      0.01      0.00   \n",
       "\n",
       "       Other_Sales  Global_Sales  Critic_Score  Critic_Count User_Score  \\\n",
       "0             8.45         82.53          76.0          51.0          8   \n",
       "2             3.29         35.52          82.0          73.0        8.3   \n",
       "3             2.95         32.77          80.0          73.0          8   \n",
       "6             2.88         29.80          89.0          65.0        8.5   \n",
       "7             2.84         28.92          58.0          41.0        6.6   \n",
       "...            ...           ...           ...           ...        ...   \n",
       "16667         0.00          0.01          46.0           4.0        2.4   \n",
       "16677         0.00          0.01          81.0          12.0        8.8   \n",
       "16696         0.00          0.01          80.0          20.0        7.6   \n",
       "16700         0.00          0.01          61.0          12.0        5.8   \n",
       "16706         0.00          0.01          60.0          12.0        7.2   \n",
       "\n",
       "       User_Count           Developer Rating  \n",
       "0           322.0            Nintendo      E  \n",
       "2           709.0            Nintendo      E  \n",
       "3           192.0            Nintendo      E  \n",
       "6           431.0            Nintendo      E  \n",
       "7           129.0            Nintendo      E  \n",
       "...           ...                 ...    ...  \n",
       "16667        21.0       Fluid Studios      E  \n",
       "16677         9.0     Criterion Games      M  \n",
       "16696       412.0  Kojima Productions      M  \n",
       "16700        43.0        Atomic Games      T  \n",
       "16706        13.0              SimBin   E10+  \n",
       "\n",
       "[6825 rows x 16 columns]"
      ]
     },
     "execution_count": 13,
     "metadata": {},
     "output_type": "execute_result"
    }
   ],
   "source": [
    "videogames_clean_df"
   ]
  },
  {
   "cell_type": "code",
   "execution_count": null,
   "id": "f00a2b35",
   "metadata": {},
   "outputs": [],
   "source": []
  },
  {
   "cell_type": "code",
   "execution_count": 15,
   "id": "1ae09775",
   "metadata": {},
   "outputs": [
    {
     "data": {
      "application/javascript": [
       "/* Put everything inside the global mpl namespace */\n",
       "/* global mpl */\n",
       "window.mpl = {};\n",
       "\n",
       "mpl.get_websocket_type = function () {\n",
       "    if (typeof WebSocket !== 'undefined') {\n",
       "        return WebSocket;\n",
       "    } else if (typeof MozWebSocket !== 'undefined') {\n",
       "        return MozWebSocket;\n",
       "    } else {\n",
       "        alert(\n",
       "            'Your browser does not have WebSocket support. ' +\n",
       "                'Please try Chrome, Safari or Firefox ≥ 6. ' +\n",
       "                'Firefox 4 and 5 are also supported but you ' +\n",
       "                'have to enable WebSockets in about:config.'\n",
       "        );\n",
       "    }\n",
       "};\n",
       "\n",
       "mpl.figure = function (figure_id, websocket, ondownload, parent_element) {\n",
       "    this.id = figure_id;\n",
       "\n",
       "    this.ws = websocket;\n",
       "\n",
       "    this.supports_binary = this.ws.binaryType !== undefined;\n",
       "\n",
       "    if (!this.supports_binary) {\n",
       "        var warnings = document.getElementById('mpl-warnings');\n",
       "        if (warnings) {\n",
       "            warnings.style.display = 'block';\n",
       "            warnings.textContent =\n",
       "                'This browser does not support binary websocket messages. ' +\n",
       "                'Performance may be slow.';\n",
       "        }\n",
       "    }\n",
       "\n",
       "    this.imageObj = new Image();\n",
       "\n",
       "    this.context = undefined;\n",
       "    this.message = undefined;\n",
       "    this.canvas = undefined;\n",
       "    this.rubberband_canvas = undefined;\n",
       "    this.rubberband_context = undefined;\n",
       "    this.format_dropdown = undefined;\n",
       "\n",
       "    this.image_mode = 'full';\n",
       "\n",
       "    this.root = document.createElement('div');\n",
       "    this.root.setAttribute('style', 'display: inline-block');\n",
       "    this._root_extra_style(this.root);\n",
       "\n",
       "    parent_element.appendChild(this.root);\n",
       "\n",
       "    this._init_header(this);\n",
       "    this._init_canvas(this);\n",
       "    this._init_toolbar(this);\n",
       "\n",
       "    var fig = this;\n",
       "\n",
       "    this.waiting = false;\n",
       "\n",
       "    this.ws.onopen = function () {\n",
       "        fig.send_message('supports_binary', { value: fig.supports_binary });\n",
       "        fig.send_message('send_image_mode', {});\n",
       "        if (fig.ratio !== 1) {\n",
       "            fig.send_message('set_device_pixel_ratio', {\n",
       "                device_pixel_ratio: fig.ratio,\n",
       "            });\n",
       "        }\n",
       "        fig.send_message('refresh', {});\n",
       "    };\n",
       "\n",
       "    this.imageObj.onload = function () {\n",
       "        if (fig.image_mode === 'full') {\n",
       "            // Full images could contain transparency (where diff images\n",
       "            // almost always do), so we need to clear the canvas so that\n",
       "            // there is no ghosting.\n",
       "            fig.context.clearRect(0, 0, fig.canvas.width, fig.canvas.height);\n",
       "        }\n",
       "        fig.context.drawImage(fig.imageObj, 0, 0);\n",
       "    };\n",
       "\n",
       "    this.imageObj.onunload = function () {\n",
       "        fig.ws.close();\n",
       "    };\n",
       "\n",
       "    this.ws.onmessage = this._make_on_message_function(this);\n",
       "\n",
       "    this.ondownload = ondownload;\n",
       "};\n",
       "\n",
       "mpl.figure.prototype._init_header = function () {\n",
       "    var titlebar = document.createElement('div');\n",
       "    titlebar.classList =\n",
       "        'ui-dialog-titlebar ui-widget-header ui-corner-all ui-helper-clearfix';\n",
       "    var titletext = document.createElement('div');\n",
       "    titletext.classList = 'ui-dialog-title';\n",
       "    titletext.setAttribute(\n",
       "        'style',\n",
       "        'width: 100%; text-align: center; padding: 3px;'\n",
       "    );\n",
       "    titlebar.appendChild(titletext);\n",
       "    this.root.appendChild(titlebar);\n",
       "    this.header = titletext;\n",
       "};\n",
       "\n",
       "mpl.figure.prototype._canvas_extra_style = function (_canvas_div) {};\n",
       "\n",
       "mpl.figure.prototype._root_extra_style = function (_canvas_div) {};\n",
       "\n",
       "mpl.figure.prototype._init_canvas = function () {\n",
       "    var fig = this;\n",
       "\n",
       "    var canvas_div = (this.canvas_div = document.createElement('div'));\n",
       "    canvas_div.setAttribute(\n",
       "        'style',\n",
       "        'border: 1px solid #ddd;' +\n",
       "            'box-sizing: content-box;' +\n",
       "            'clear: both;' +\n",
       "            'min-height: 1px;' +\n",
       "            'min-width: 1px;' +\n",
       "            'outline: 0;' +\n",
       "            'overflow: hidden;' +\n",
       "            'position: relative;' +\n",
       "            'resize: both;'\n",
       "    );\n",
       "\n",
       "    function on_keyboard_event_closure(name) {\n",
       "        return function (event) {\n",
       "            return fig.key_event(event, name);\n",
       "        };\n",
       "    }\n",
       "\n",
       "    canvas_div.addEventListener(\n",
       "        'keydown',\n",
       "        on_keyboard_event_closure('key_press')\n",
       "    );\n",
       "    canvas_div.addEventListener(\n",
       "        'keyup',\n",
       "        on_keyboard_event_closure('key_release')\n",
       "    );\n",
       "\n",
       "    this._canvas_extra_style(canvas_div);\n",
       "    this.root.appendChild(canvas_div);\n",
       "\n",
       "    var canvas = (this.canvas = document.createElement('canvas'));\n",
       "    canvas.classList.add('mpl-canvas');\n",
       "    canvas.setAttribute('style', 'box-sizing: content-box;');\n",
       "\n",
       "    this.context = canvas.getContext('2d');\n",
       "\n",
       "    var backingStore =\n",
       "        this.context.backingStorePixelRatio ||\n",
       "        this.context.webkitBackingStorePixelRatio ||\n",
       "        this.context.mozBackingStorePixelRatio ||\n",
       "        this.context.msBackingStorePixelRatio ||\n",
       "        this.context.oBackingStorePixelRatio ||\n",
       "        this.context.backingStorePixelRatio ||\n",
       "        1;\n",
       "\n",
       "    this.ratio = (window.devicePixelRatio || 1) / backingStore;\n",
       "\n",
       "    var rubberband_canvas = (this.rubberband_canvas = document.createElement(\n",
       "        'canvas'\n",
       "    ));\n",
       "    rubberband_canvas.setAttribute(\n",
       "        'style',\n",
       "        'box-sizing: content-box; position: absolute; left: 0; top: 0; z-index: 1;'\n",
       "    );\n",
       "\n",
       "    // Apply a ponyfill if ResizeObserver is not implemented by browser.\n",
       "    if (this.ResizeObserver === undefined) {\n",
       "        if (window.ResizeObserver !== undefined) {\n",
       "            this.ResizeObserver = window.ResizeObserver;\n",
       "        } else {\n",
       "            var obs = _JSXTOOLS_RESIZE_OBSERVER({});\n",
       "            this.ResizeObserver = obs.ResizeObserver;\n",
       "        }\n",
       "    }\n",
       "\n",
       "    this.resizeObserverInstance = new this.ResizeObserver(function (entries) {\n",
       "        var nentries = entries.length;\n",
       "        for (var i = 0; i < nentries; i++) {\n",
       "            var entry = entries[i];\n",
       "            var width, height;\n",
       "            if (entry.contentBoxSize) {\n",
       "                if (entry.contentBoxSize instanceof Array) {\n",
       "                    // Chrome 84 implements new version of spec.\n",
       "                    width = entry.contentBoxSize[0].inlineSize;\n",
       "                    height = entry.contentBoxSize[0].blockSize;\n",
       "                } else {\n",
       "                    // Firefox implements old version of spec.\n",
       "                    width = entry.contentBoxSize.inlineSize;\n",
       "                    height = entry.contentBoxSize.blockSize;\n",
       "                }\n",
       "            } else {\n",
       "                // Chrome <84 implements even older version of spec.\n",
       "                width = entry.contentRect.width;\n",
       "                height = entry.contentRect.height;\n",
       "            }\n",
       "\n",
       "            // Keep the size of the canvas and rubber band canvas in sync with\n",
       "            // the canvas container.\n",
       "            if (entry.devicePixelContentBoxSize) {\n",
       "                // Chrome 84 implements new version of spec.\n",
       "                canvas.setAttribute(\n",
       "                    'width',\n",
       "                    entry.devicePixelContentBoxSize[0].inlineSize\n",
       "                );\n",
       "                canvas.setAttribute(\n",
       "                    'height',\n",
       "                    entry.devicePixelContentBoxSize[0].blockSize\n",
       "                );\n",
       "            } else {\n",
       "                canvas.setAttribute('width', width * fig.ratio);\n",
       "                canvas.setAttribute('height', height * fig.ratio);\n",
       "            }\n",
       "            canvas.setAttribute(\n",
       "                'style',\n",
       "                'width: ' + width + 'px; height: ' + height + 'px;'\n",
       "            );\n",
       "\n",
       "            rubberband_canvas.setAttribute('width', width);\n",
       "            rubberband_canvas.setAttribute('height', height);\n",
       "\n",
       "            // And update the size in Python. We ignore the initial 0/0 size\n",
       "            // that occurs as the element is placed into the DOM, which should\n",
       "            // otherwise not happen due to the minimum size styling.\n",
       "            if (fig.ws.readyState == 1 && width != 0 && height != 0) {\n",
       "                fig.request_resize(width, height);\n",
       "            }\n",
       "        }\n",
       "    });\n",
       "    this.resizeObserverInstance.observe(canvas_div);\n",
       "\n",
       "    function on_mouse_event_closure(name) {\n",
       "        return function (event) {\n",
       "            return fig.mouse_event(event, name);\n",
       "        };\n",
       "    }\n",
       "\n",
       "    rubberband_canvas.addEventListener(\n",
       "        'mousedown',\n",
       "        on_mouse_event_closure('button_press')\n",
       "    );\n",
       "    rubberband_canvas.addEventListener(\n",
       "        'mouseup',\n",
       "        on_mouse_event_closure('button_release')\n",
       "    );\n",
       "    rubberband_canvas.addEventListener(\n",
       "        'dblclick',\n",
       "        on_mouse_event_closure('dblclick')\n",
       "    );\n",
       "    // Throttle sequential mouse events to 1 every 20ms.\n",
       "    rubberband_canvas.addEventListener(\n",
       "        'mousemove',\n",
       "        on_mouse_event_closure('motion_notify')\n",
       "    );\n",
       "\n",
       "    rubberband_canvas.addEventListener(\n",
       "        'mouseenter',\n",
       "        on_mouse_event_closure('figure_enter')\n",
       "    );\n",
       "    rubberband_canvas.addEventListener(\n",
       "        'mouseleave',\n",
       "        on_mouse_event_closure('figure_leave')\n",
       "    );\n",
       "\n",
       "    canvas_div.addEventListener('wheel', function (event) {\n",
       "        if (event.deltaY < 0) {\n",
       "            event.step = 1;\n",
       "        } else {\n",
       "            event.step = -1;\n",
       "        }\n",
       "        on_mouse_event_closure('scroll')(event);\n",
       "    });\n",
       "\n",
       "    canvas_div.appendChild(canvas);\n",
       "    canvas_div.appendChild(rubberband_canvas);\n",
       "\n",
       "    this.rubberband_context = rubberband_canvas.getContext('2d');\n",
       "    this.rubberband_context.strokeStyle = '#000000';\n",
       "\n",
       "    this._resize_canvas = function (width, height, forward) {\n",
       "        if (forward) {\n",
       "            canvas_div.style.width = width + 'px';\n",
       "            canvas_div.style.height = height + 'px';\n",
       "        }\n",
       "    };\n",
       "\n",
       "    // Disable right mouse context menu.\n",
       "    this.rubberband_canvas.addEventListener('contextmenu', function (_e) {\n",
       "        event.preventDefault();\n",
       "        return false;\n",
       "    });\n",
       "\n",
       "    function set_focus() {\n",
       "        canvas.focus();\n",
       "        canvas_div.focus();\n",
       "    }\n",
       "\n",
       "    window.setTimeout(set_focus, 100);\n",
       "};\n",
       "\n",
       "mpl.figure.prototype._init_toolbar = function () {\n",
       "    var fig = this;\n",
       "\n",
       "    var toolbar = document.createElement('div');\n",
       "    toolbar.classList = 'mpl-toolbar';\n",
       "    this.root.appendChild(toolbar);\n",
       "\n",
       "    function on_click_closure(name) {\n",
       "        return function (_event) {\n",
       "            return fig.toolbar_button_onclick(name);\n",
       "        };\n",
       "    }\n",
       "\n",
       "    function on_mouseover_closure(tooltip) {\n",
       "        return function (event) {\n",
       "            if (!event.currentTarget.disabled) {\n",
       "                return fig.toolbar_button_onmouseover(tooltip);\n",
       "            }\n",
       "        };\n",
       "    }\n",
       "\n",
       "    fig.buttons = {};\n",
       "    var buttonGroup = document.createElement('div');\n",
       "    buttonGroup.classList = 'mpl-button-group';\n",
       "    for (var toolbar_ind in mpl.toolbar_items) {\n",
       "        var name = mpl.toolbar_items[toolbar_ind][0];\n",
       "        var tooltip = mpl.toolbar_items[toolbar_ind][1];\n",
       "        var image = mpl.toolbar_items[toolbar_ind][2];\n",
       "        var method_name = mpl.toolbar_items[toolbar_ind][3];\n",
       "\n",
       "        if (!name) {\n",
       "            /* Instead of a spacer, we start a new button group. */\n",
       "            if (buttonGroup.hasChildNodes()) {\n",
       "                toolbar.appendChild(buttonGroup);\n",
       "            }\n",
       "            buttonGroup = document.createElement('div');\n",
       "            buttonGroup.classList = 'mpl-button-group';\n",
       "            continue;\n",
       "        }\n",
       "\n",
       "        var button = (fig.buttons[name] = document.createElement('button'));\n",
       "        button.classList = 'mpl-widget';\n",
       "        button.setAttribute('role', 'button');\n",
       "        button.setAttribute('aria-disabled', 'false');\n",
       "        button.addEventListener('click', on_click_closure(method_name));\n",
       "        button.addEventListener('mouseover', on_mouseover_closure(tooltip));\n",
       "\n",
       "        var icon_img = document.createElement('img');\n",
       "        icon_img.src = '_images/' + image + '.png';\n",
       "        icon_img.srcset = '_images/' + image + '_large.png 2x';\n",
       "        icon_img.alt = tooltip;\n",
       "        button.appendChild(icon_img);\n",
       "\n",
       "        buttonGroup.appendChild(button);\n",
       "    }\n",
       "\n",
       "    if (buttonGroup.hasChildNodes()) {\n",
       "        toolbar.appendChild(buttonGroup);\n",
       "    }\n",
       "\n",
       "    var fmt_picker = document.createElement('select');\n",
       "    fmt_picker.classList = 'mpl-widget';\n",
       "    toolbar.appendChild(fmt_picker);\n",
       "    this.format_dropdown = fmt_picker;\n",
       "\n",
       "    for (var ind in mpl.extensions) {\n",
       "        var fmt = mpl.extensions[ind];\n",
       "        var option = document.createElement('option');\n",
       "        option.selected = fmt === mpl.default_extension;\n",
       "        option.innerHTML = fmt;\n",
       "        fmt_picker.appendChild(option);\n",
       "    }\n",
       "\n",
       "    var status_bar = document.createElement('span');\n",
       "    status_bar.classList = 'mpl-message';\n",
       "    toolbar.appendChild(status_bar);\n",
       "    this.message = status_bar;\n",
       "};\n",
       "\n",
       "mpl.figure.prototype.request_resize = function (x_pixels, y_pixels) {\n",
       "    // Request matplotlib to resize the figure. Matplotlib will then trigger a resize in the client,\n",
       "    // which will in turn request a refresh of the image.\n",
       "    this.send_message('resize', { width: x_pixels, height: y_pixels });\n",
       "};\n",
       "\n",
       "mpl.figure.prototype.send_message = function (type, properties) {\n",
       "    properties['type'] = type;\n",
       "    properties['figure_id'] = this.id;\n",
       "    this.ws.send(JSON.stringify(properties));\n",
       "};\n",
       "\n",
       "mpl.figure.prototype.send_draw_message = function () {\n",
       "    if (!this.waiting) {\n",
       "        this.waiting = true;\n",
       "        this.ws.send(JSON.stringify({ type: 'draw', figure_id: this.id }));\n",
       "    }\n",
       "};\n",
       "\n",
       "mpl.figure.prototype.handle_save = function (fig, _msg) {\n",
       "    var format_dropdown = fig.format_dropdown;\n",
       "    var format = format_dropdown.options[format_dropdown.selectedIndex].value;\n",
       "    fig.ondownload(fig, format);\n",
       "};\n",
       "\n",
       "mpl.figure.prototype.handle_resize = function (fig, msg) {\n",
       "    var size = msg['size'];\n",
       "    if (size[0] !== fig.canvas.width || size[1] !== fig.canvas.height) {\n",
       "        fig._resize_canvas(size[0], size[1], msg['forward']);\n",
       "        fig.send_message('refresh', {});\n",
       "    }\n",
       "};\n",
       "\n",
       "mpl.figure.prototype.handle_rubberband = function (fig, msg) {\n",
       "    var x0 = msg['x0'] / fig.ratio;\n",
       "    var y0 = (fig.canvas.height - msg['y0']) / fig.ratio;\n",
       "    var x1 = msg['x1'] / fig.ratio;\n",
       "    var y1 = (fig.canvas.height - msg['y1']) / fig.ratio;\n",
       "    x0 = Math.floor(x0) + 0.5;\n",
       "    y0 = Math.floor(y0) + 0.5;\n",
       "    x1 = Math.floor(x1) + 0.5;\n",
       "    y1 = Math.floor(y1) + 0.5;\n",
       "    var min_x = Math.min(x0, x1);\n",
       "    var min_y = Math.min(y0, y1);\n",
       "    var width = Math.abs(x1 - x0);\n",
       "    var height = Math.abs(y1 - y0);\n",
       "\n",
       "    fig.rubberband_context.clearRect(\n",
       "        0,\n",
       "        0,\n",
       "        fig.canvas.width / fig.ratio,\n",
       "        fig.canvas.height / fig.ratio\n",
       "    );\n",
       "\n",
       "    fig.rubberband_context.strokeRect(min_x, min_y, width, height);\n",
       "};\n",
       "\n",
       "mpl.figure.prototype.handle_figure_label = function (fig, msg) {\n",
       "    // Updates the figure title.\n",
       "    fig.header.textContent = msg['label'];\n",
       "};\n",
       "\n",
       "mpl.figure.prototype.handle_cursor = function (fig, msg) {\n",
       "    fig.rubberband_canvas.style.cursor = msg['cursor'];\n",
       "};\n",
       "\n",
       "mpl.figure.prototype.handle_message = function (fig, msg) {\n",
       "    fig.message.textContent = msg['message'];\n",
       "};\n",
       "\n",
       "mpl.figure.prototype.handle_draw = function (fig, _msg) {\n",
       "    // Request the server to send over a new figure.\n",
       "    fig.send_draw_message();\n",
       "};\n",
       "\n",
       "mpl.figure.prototype.handle_image_mode = function (fig, msg) {\n",
       "    fig.image_mode = msg['mode'];\n",
       "};\n",
       "\n",
       "mpl.figure.prototype.handle_history_buttons = function (fig, msg) {\n",
       "    for (var key in msg) {\n",
       "        if (!(key in fig.buttons)) {\n",
       "            continue;\n",
       "        }\n",
       "        fig.buttons[key].disabled = !msg[key];\n",
       "        fig.buttons[key].setAttribute('aria-disabled', !msg[key]);\n",
       "    }\n",
       "};\n",
       "\n",
       "mpl.figure.prototype.handle_navigate_mode = function (fig, msg) {\n",
       "    if (msg['mode'] === 'PAN') {\n",
       "        fig.buttons['Pan'].classList.add('active');\n",
       "        fig.buttons['Zoom'].classList.remove('active');\n",
       "    } else if (msg['mode'] === 'ZOOM') {\n",
       "        fig.buttons['Pan'].classList.remove('active');\n",
       "        fig.buttons['Zoom'].classList.add('active');\n",
       "    } else {\n",
       "        fig.buttons['Pan'].classList.remove('active');\n",
       "        fig.buttons['Zoom'].classList.remove('active');\n",
       "    }\n",
       "};\n",
       "\n",
       "mpl.figure.prototype.updated_canvas_event = function () {\n",
       "    // Called whenever the canvas gets updated.\n",
       "    this.send_message('ack', {});\n",
       "};\n",
       "\n",
       "// A function to construct a web socket function for onmessage handling.\n",
       "// Called in the figure constructor.\n",
       "mpl.figure.prototype._make_on_message_function = function (fig) {\n",
       "    return function socket_on_message(evt) {\n",
       "        if (evt.data instanceof Blob) {\n",
       "            var img = evt.data;\n",
       "            if (img.type !== 'image/png') {\n",
       "                /* FIXME: We get \"Resource interpreted as Image but\n",
       "                 * transferred with MIME type text/plain:\" errors on\n",
       "                 * Chrome.  But how to set the MIME type?  It doesn't seem\n",
       "                 * to be part of the websocket stream */\n",
       "                img.type = 'image/png';\n",
       "            }\n",
       "\n",
       "            /* Free the memory for the previous frames */\n",
       "            if (fig.imageObj.src) {\n",
       "                (window.URL || window.webkitURL).revokeObjectURL(\n",
       "                    fig.imageObj.src\n",
       "                );\n",
       "            }\n",
       "\n",
       "            fig.imageObj.src = (window.URL || window.webkitURL).createObjectURL(\n",
       "                img\n",
       "            );\n",
       "            fig.updated_canvas_event();\n",
       "            fig.waiting = false;\n",
       "            return;\n",
       "        } else if (\n",
       "            typeof evt.data === 'string' &&\n",
       "            evt.data.slice(0, 21) === 'data:image/png;base64'\n",
       "        ) {\n",
       "            fig.imageObj.src = evt.data;\n",
       "            fig.updated_canvas_event();\n",
       "            fig.waiting = false;\n",
       "            return;\n",
       "        }\n",
       "\n",
       "        var msg = JSON.parse(evt.data);\n",
       "        var msg_type = msg['type'];\n",
       "\n",
       "        // Call the  \"handle_{type}\" callback, which takes\n",
       "        // the figure and JSON message as its only arguments.\n",
       "        try {\n",
       "            var callback = fig['handle_' + msg_type];\n",
       "        } catch (e) {\n",
       "            console.log(\n",
       "                \"No handler for the '\" + msg_type + \"' message type: \",\n",
       "                msg\n",
       "            );\n",
       "            return;\n",
       "        }\n",
       "\n",
       "        if (callback) {\n",
       "            try {\n",
       "                // console.log(\"Handling '\" + msg_type + \"' message: \", msg);\n",
       "                callback(fig, msg);\n",
       "            } catch (e) {\n",
       "                console.log(\n",
       "                    \"Exception inside the 'handler_\" + msg_type + \"' callback:\",\n",
       "                    e,\n",
       "                    e.stack,\n",
       "                    msg\n",
       "                );\n",
       "            }\n",
       "        }\n",
       "    };\n",
       "};\n",
       "\n",
       "// from https://stackoverflow.com/questions/1114465/getting-mouse-location-in-canvas\n",
       "mpl.findpos = function (e) {\n",
       "    //this section is from http://www.quirksmode.org/js/events_properties.html\n",
       "    var targ;\n",
       "    if (!e) {\n",
       "        e = window.event;\n",
       "    }\n",
       "    if (e.target) {\n",
       "        targ = e.target;\n",
       "    } else if (e.srcElement) {\n",
       "        targ = e.srcElement;\n",
       "    }\n",
       "    if (targ.nodeType === 3) {\n",
       "        // defeat Safari bug\n",
       "        targ = targ.parentNode;\n",
       "    }\n",
       "\n",
       "    // pageX,Y are the mouse positions relative to the document\n",
       "    var boundingRect = targ.getBoundingClientRect();\n",
       "    var x = e.pageX - (boundingRect.left + document.body.scrollLeft);\n",
       "    var y = e.pageY - (boundingRect.top + document.body.scrollTop);\n",
       "\n",
       "    return { x: x, y: y };\n",
       "};\n",
       "\n",
       "/*\n",
       " * return a copy of an object with only non-object keys\n",
       " * we need this to avoid circular references\n",
       " * https://stackoverflow.com/a/24161582/3208463\n",
       " */\n",
       "function simpleKeys(original) {\n",
       "    return Object.keys(original).reduce(function (obj, key) {\n",
       "        if (typeof original[key] !== 'object') {\n",
       "            obj[key] = original[key];\n",
       "        }\n",
       "        return obj;\n",
       "    }, {});\n",
       "}\n",
       "\n",
       "mpl.figure.prototype.mouse_event = function (event, name) {\n",
       "    var canvas_pos = mpl.findpos(event);\n",
       "\n",
       "    if (name === 'button_press') {\n",
       "        this.canvas.focus();\n",
       "        this.canvas_div.focus();\n",
       "    }\n",
       "\n",
       "    var x = canvas_pos.x * this.ratio;\n",
       "    var y = canvas_pos.y * this.ratio;\n",
       "\n",
       "    this.send_message(name, {\n",
       "        x: x,\n",
       "        y: y,\n",
       "        button: event.button,\n",
       "        step: event.step,\n",
       "        guiEvent: simpleKeys(event),\n",
       "    });\n",
       "\n",
       "    /* This prevents the web browser from automatically changing to\n",
       "     * the text insertion cursor when the button is pressed.  We want\n",
       "     * to control all of the cursor setting manually through the\n",
       "     * 'cursor' event from matplotlib */\n",
       "    event.preventDefault();\n",
       "    return false;\n",
       "};\n",
       "\n",
       "mpl.figure.prototype._key_event_extra = function (_event, _name) {\n",
       "    // Handle any extra behaviour associated with a key event\n",
       "};\n",
       "\n",
       "mpl.figure.prototype.key_event = function (event, name) {\n",
       "    // Prevent repeat events\n",
       "    if (name === 'key_press') {\n",
       "        if (event.key === this._key) {\n",
       "            return;\n",
       "        } else {\n",
       "            this._key = event.key;\n",
       "        }\n",
       "    }\n",
       "    if (name === 'key_release') {\n",
       "        this._key = null;\n",
       "    }\n",
       "\n",
       "    var value = '';\n",
       "    if (event.ctrlKey && event.key !== 'Control') {\n",
       "        value += 'ctrl+';\n",
       "    }\n",
       "    else if (event.altKey && event.key !== 'Alt') {\n",
       "        value += 'alt+';\n",
       "    }\n",
       "    else if (event.shiftKey && event.key !== 'Shift') {\n",
       "        value += 'shift+';\n",
       "    }\n",
       "\n",
       "    value += 'k' + event.key;\n",
       "\n",
       "    this._key_event_extra(event, name);\n",
       "\n",
       "    this.send_message(name, { key: value, guiEvent: simpleKeys(event) });\n",
       "    return false;\n",
       "};\n",
       "\n",
       "mpl.figure.prototype.toolbar_button_onclick = function (name) {\n",
       "    if (name === 'download') {\n",
       "        this.handle_save(this, null);\n",
       "    } else {\n",
       "        this.send_message('toolbar_button', { name: name });\n",
       "    }\n",
       "};\n",
       "\n",
       "mpl.figure.prototype.toolbar_button_onmouseover = function (tooltip) {\n",
       "    this.message.textContent = tooltip;\n",
       "};\n",
       "\n",
       "///////////////// REMAINING CONTENT GENERATED BY embed_js.py /////////////////\n",
       "// prettier-ignore\n",
       "var _JSXTOOLS_RESIZE_OBSERVER=function(A){var t,i=new WeakMap,n=new WeakMap,a=new WeakMap,r=new WeakMap,o=new Set;function s(e){if(!(this instanceof s))throw new TypeError(\"Constructor requires 'new' operator\");i.set(this,e)}function h(){throw new TypeError(\"Function is not a constructor\")}function c(e,t,i,n){e=0 in arguments?Number(arguments[0]):0,t=1 in arguments?Number(arguments[1]):0,i=2 in arguments?Number(arguments[2]):0,n=3 in arguments?Number(arguments[3]):0,this.right=(this.x=this.left=e)+(this.width=i),this.bottom=(this.y=this.top=t)+(this.height=n),Object.freeze(this)}function d(){t=requestAnimationFrame(d);var s=new WeakMap,p=new Set;o.forEach((function(t){r.get(t).forEach((function(i){var r=t instanceof window.SVGElement,o=a.get(t),d=r?0:parseFloat(o.paddingTop),f=r?0:parseFloat(o.paddingRight),l=r?0:parseFloat(o.paddingBottom),u=r?0:parseFloat(o.paddingLeft),g=r?0:parseFloat(o.borderTopWidth),m=r?0:parseFloat(o.borderRightWidth),w=r?0:parseFloat(o.borderBottomWidth),b=u+f,F=d+l,v=(r?0:parseFloat(o.borderLeftWidth))+m,W=g+w,y=r?0:t.offsetHeight-W-t.clientHeight,E=r?0:t.offsetWidth-v-t.clientWidth,R=b+v,z=F+W,M=r?t.width:parseFloat(o.width)-R-E,O=r?t.height:parseFloat(o.height)-z-y;if(n.has(t)){var k=n.get(t);if(k[0]===M&&k[1]===O)return}n.set(t,[M,O]);var S=Object.create(h.prototype);S.target=t,S.contentRect=new c(u,d,M,O),s.has(i)||(s.set(i,[]),p.add(i)),s.get(i).push(S)}))})),p.forEach((function(e){i.get(e).call(e,s.get(e),e)}))}return s.prototype.observe=function(i){if(i instanceof window.Element){r.has(i)||(r.set(i,new Set),o.add(i),a.set(i,window.getComputedStyle(i)));var n=r.get(i);n.has(this)||n.add(this),cancelAnimationFrame(t),t=requestAnimationFrame(d)}},s.prototype.unobserve=function(i){if(i instanceof window.Element&&r.has(i)){var n=r.get(i);n.has(this)&&(n.delete(this),n.size||(r.delete(i),o.delete(i))),n.size||r.delete(i),o.size||cancelAnimationFrame(t)}},A.DOMRectReadOnly=c,A.ResizeObserver=s,A.ResizeObserverEntry=h,A}; // eslint-disable-line\n",
       "mpl.toolbar_items = [[\"Home\", \"Reset original view\", \"fa fa-home icon-home\", \"home\"], [\"Back\", \"Back to previous view\", \"fa fa-arrow-left icon-arrow-left\", \"back\"], [\"Forward\", \"Forward to next view\", \"fa fa-arrow-right icon-arrow-right\", \"forward\"], [\"\", \"\", \"\", \"\"], [\"Pan\", \"Left button pans, Right button zooms\\nx/y fixes axis, CTRL fixes aspect\", \"fa fa-arrows icon-move\", \"pan\"], [\"Zoom\", \"Zoom to rectangle\\nx/y fixes axis\", \"fa fa-square-o icon-check-empty\", \"zoom\"], [\"\", \"\", \"\", \"\"], [\"Download\", \"Download plot\", \"fa fa-floppy-o icon-save\", \"download\"]];\n",
       "\n",
       "mpl.extensions = [\"eps\", \"jpeg\", \"pgf\", \"pdf\", \"png\", \"ps\", \"raw\", \"svg\", \"tif\"];\n",
       "\n",
       "mpl.default_extension = \"png\";/* global mpl */\n",
       "\n",
       "var comm_websocket_adapter = function (comm) {\n",
       "    // Create a \"websocket\"-like object which calls the given IPython comm\n",
       "    // object with the appropriate methods. Currently this is a non binary\n",
       "    // socket, so there is still some room for performance tuning.\n",
       "    var ws = {};\n",
       "\n",
       "    ws.binaryType = comm.kernel.ws.binaryType;\n",
       "    ws.readyState = comm.kernel.ws.readyState;\n",
       "    function updateReadyState(_event) {\n",
       "        if (comm.kernel.ws) {\n",
       "            ws.readyState = comm.kernel.ws.readyState;\n",
       "        } else {\n",
       "            ws.readyState = 3; // Closed state.\n",
       "        }\n",
       "    }\n",
       "    comm.kernel.ws.addEventListener('open', updateReadyState);\n",
       "    comm.kernel.ws.addEventListener('close', updateReadyState);\n",
       "    comm.kernel.ws.addEventListener('error', updateReadyState);\n",
       "\n",
       "    ws.close = function () {\n",
       "        comm.close();\n",
       "    };\n",
       "    ws.send = function (m) {\n",
       "        //console.log('sending', m);\n",
       "        comm.send(m);\n",
       "    };\n",
       "    // Register the callback with on_msg.\n",
       "    comm.on_msg(function (msg) {\n",
       "        //console.log('receiving', msg['content']['data'], msg);\n",
       "        var data = msg['content']['data'];\n",
       "        if (data['blob'] !== undefined) {\n",
       "            data = {\n",
       "                data: new Blob(msg['buffers'], { type: data['blob'] }),\n",
       "            };\n",
       "        }\n",
       "        // Pass the mpl event to the overridden (by mpl) onmessage function.\n",
       "        ws.onmessage(data);\n",
       "    });\n",
       "    return ws;\n",
       "};\n",
       "\n",
       "mpl.mpl_figure_comm = function (comm, msg) {\n",
       "    // This is the function which gets called when the mpl process\n",
       "    // starts-up an IPython Comm through the \"matplotlib\" channel.\n",
       "\n",
       "    var id = msg.content.data.id;\n",
       "    // Get hold of the div created by the display call when the Comm\n",
       "    // socket was opened in Python.\n",
       "    var element = document.getElementById(id);\n",
       "    var ws_proxy = comm_websocket_adapter(comm);\n",
       "\n",
       "    function ondownload(figure, _format) {\n",
       "        window.open(figure.canvas.toDataURL());\n",
       "    }\n",
       "\n",
       "    var fig = new mpl.figure(id, ws_proxy, ondownload, element);\n",
       "\n",
       "    // Call onopen now - mpl needs it, as it is assuming we've passed it a real\n",
       "    // web socket which is closed, not our websocket->open comm proxy.\n",
       "    ws_proxy.onopen();\n",
       "\n",
       "    fig.parent_element = element;\n",
       "    fig.cell_info = mpl.find_output_cell(\"<div id='\" + id + \"'></div>\");\n",
       "    if (!fig.cell_info) {\n",
       "        console.error('Failed to find cell for figure', id, fig);\n",
       "        return;\n",
       "    }\n",
       "    fig.cell_info[0].output_area.element.on(\n",
       "        'cleared',\n",
       "        { fig: fig },\n",
       "        fig._remove_fig_handler\n",
       "    );\n",
       "};\n",
       "\n",
       "mpl.figure.prototype.handle_close = function (fig, msg) {\n",
       "    var width = fig.canvas.width / fig.ratio;\n",
       "    fig.cell_info[0].output_area.element.off(\n",
       "        'cleared',\n",
       "        fig._remove_fig_handler\n",
       "    );\n",
       "    fig.resizeObserverInstance.unobserve(fig.canvas_div);\n",
       "\n",
       "    // Update the output cell to use the data from the current canvas.\n",
       "    fig.push_to_output();\n",
       "    var dataURL = fig.canvas.toDataURL();\n",
       "    // Re-enable the keyboard manager in IPython - without this line, in FF,\n",
       "    // the notebook keyboard shortcuts fail.\n",
       "    IPython.keyboard_manager.enable();\n",
       "    fig.parent_element.innerHTML =\n",
       "        '<img src=\"' + dataURL + '\" width=\"' + width + '\">';\n",
       "    fig.close_ws(fig, msg);\n",
       "};\n",
       "\n",
       "mpl.figure.prototype.close_ws = function (fig, msg) {\n",
       "    fig.send_message('closing', msg);\n",
       "    // fig.ws.close()\n",
       "};\n",
       "\n",
       "mpl.figure.prototype.push_to_output = function (_remove_interactive) {\n",
       "    // Turn the data on the canvas into data in the output cell.\n",
       "    var width = this.canvas.width / this.ratio;\n",
       "    var dataURL = this.canvas.toDataURL();\n",
       "    this.cell_info[1]['text/html'] =\n",
       "        '<img src=\"' + dataURL + '\" width=\"' + width + '\">';\n",
       "};\n",
       "\n",
       "mpl.figure.prototype.updated_canvas_event = function () {\n",
       "    // Tell IPython that the notebook contents must change.\n",
       "    IPython.notebook.set_dirty(true);\n",
       "    this.send_message('ack', {});\n",
       "    var fig = this;\n",
       "    // Wait a second, then push the new image to the DOM so\n",
       "    // that it is saved nicely (might be nice to debounce this).\n",
       "    setTimeout(function () {\n",
       "        fig.push_to_output();\n",
       "    }, 1000);\n",
       "};\n",
       "\n",
       "mpl.figure.prototype._init_toolbar = function () {\n",
       "    var fig = this;\n",
       "\n",
       "    var toolbar = document.createElement('div');\n",
       "    toolbar.classList = 'btn-toolbar';\n",
       "    this.root.appendChild(toolbar);\n",
       "\n",
       "    function on_click_closure(name) {\n",
       "        return function (_event) {\n",
       "            return fig.toolbar_button_onclick(name);\n",
       "        };\n",
       "    }\n",
       "\n",
       "    function on_mouseover_closure(tooltip) {\n",
       "        return function (event) {\n",
       "            if (!event.currentTarget.disabled) {\n",
       "                return fig.toolbar_button_onmouseover(tooltip);\n",
       "            }\n",
       "        };\n",
       "    }\n",
       "\n",
       "    fig.buttons = {};\n",
       "    var buttonGroup = document.createElement('div');\n",
       "    buttonGroup.classList = 'btn-group';\n",
       "    var button;\n",
       "    for (var toolbar_ind in mpl.toolbar_items) {\n",
       "        var name = mpl.toolbar_items[toolbar_ind][0];\n",
       "        var tooltip = mpl.toolbar_items[toolbar_ind][1];\n",
       "        var image = mpl.toolbar_items[toolbar_ind][2];\n",
       "        var method_name = mpl.toolbar_items[toolbar_ind][3];\n",
       "\n",
       "        if (!name) {\n",
       "            /* Instead of a spacer, we start a new button group. */\n",
       "            if (buttonGroup.hasChildNodes()) {\n",
       "                toolbar.appendChild(buttonGroup);\n",
       "            }\n",
       "            buttonGroup = document.createElement('div');\n",
       "            buttonGroup.classList = 'btn-group';\n",
       "            continue;\n",
       "        }\n",
       "\n",
       "        button = fig.buttons[name] = document.createElement('button');\n",
       "        button.classList = 'btn btn-default';\n",
       "        button.href = '#';\n",
       "        button.title = name;\n",
       "        button.innerHTML = '<i class=\"fa ' + image + ' fa-lg\"></i>';\n",
       "        button.addEventListener('click', on_click_closure(method_name));\n",
       "        button.addEventListener('mouseover', on_mouseover_closure(tooltip));\n",
       "        buttonGroup.appendChild(button);\n",
       "    }\n",
       "\n",
       "    if (buttonGroup.hasChildNodes()) {\n",
       "        toolbar.appendChild(buttonGroup);\n",
       "    }\n",
       "\n",
       "    // Add the status bar.\n",
       "    var status_bar = document.createElement('span');\n",
       "    status_bar.classList = 'mpl-message pull-right';\n",
       "    toolbar.appendChild(status_bar);\n",
       "    this.message = status_bar;\n",
       "\n",
       "    // Add the close button to the window.\n",
       "    var buttongrp = document.createElement('div');\n",
       "    buttongrp.classList = 'btn-group inline pull-right';\n",
       "    button = document.createElement('button');\n",
       "    button.classList = 'btn btn-mini btn-primary';\n",
       "    button.href = '#';\n",
       "    button.title = 'Stop Interaction';\n",
       "    button.innerHTML = '<i class=\"fa fa-power-off icon-remove icon-large\"></i>';\n",
       "    button.addEventListener('click', function (_evt) {\n",
       "        fig.handle_close(fig, {});\n",
       "    });\n",
       "    button.addEventListener(\n",
       "        'mouseover',\n",
       "        on_mouseover_closure('Stop Interaction')\n",
       "    );\n",
       "    buttongrp.appendChild(button);\n",
       "    var titlebar = this.root.querySelector('.ui-dialog-titlebar');\n",
       "    titlebar.insertBefore(buttongrp, titlebar.firstChild);\n",
       "};\n",
       "\n",
       "mpl.figure.prototype._remove_fig_handler = function (event) {\n",
       "    var fig = event.data.fig;\n",
       "    if (event.target !== this) {\n",
       "        // Ignore bubbled events from children.\n",
       "        return;\n",
       "    }\n",
       "    fig.close_ws(fig, {});\n",
       "};\n",
       "\n",
       "mpl.figure.prototype._root_extra_style = function (el) {\n",
       "    el.style.boxSizing = 'content-box'; // override notebook setting of border-box.\n",
       "};\n",
       "\n",
       "mpl.figure.prototype._canvas_extra_style = function (el) {\n",
       "    // this is important to make the div 'focusable\n",
       "    el.setAttribute('tabindex', 0);\n",
       "    // reach out to IPython and tell the keyboard manager to turn it's self\n",
       "    // off when our div gets focus\n",
       "\n",
       "    // location in version 3\n",
       "    if (IPython.notebook.keyboard_manager) {\n",
       "        IPython.notebook.keyboard_manager.register_events(el);\n",
       "    } else {\n",
       "        // location in version 2\n",
       "        IPython.keyboard_manager.register_events(el);\n",
       "    }\n",
       "};\n",
       "\n",
       "mpl.figure.prototype._key_event_extra = function (event, _name) {\n",
       "    // Check for shift+enter\n",
       "    if (event.shiftKey && event.which === 13) {\n",
       "        this.canvas_div.blur();\n",
       "        // select the cell after this one\n",
       "        var index = IPython.notebook.find_cell_index(this.cell_info[0]);\n",
       "        IPython.notebook.select(index + 1);\n",
       "    }\n",
       "};\n",
       "\n",
       "mpl.figure.prototype.handle_save = function (fig, _msg) {\n",
       "    fig.ondownload(fig, null);\n",
       "};\n",
       "\n",
       "mpl.find_output_cell = function (html_output) {\n",
       "    // Return the cell and output element which can be found *uniquely* in the notebook.\n",
       "    // Note - this is a bit hacky, but it is done because the \"notebook_saving.Notebook\"\n",
       "    // IPython event is triggered only after the cells have been serialised, which for\n",
       "    // our purposes (turning an active figure into a static one), is too late.\n",
       "    var cells = IPython.notebook.get_cells();\n",
       "    var ncells = cells.length;\n",
       "    for (var i = 0; i < ncells; i++) {\n",
       "        var cell = cells[i];\n",
       "        if (cell.cell_type === 'code') {\n",
       "            for (var j = 0; j < cell.output_area.outputs.length; j++) {\n",
       "                var data = cell.output_area.outputs[j];\n",
       "                if (data.data) {\n",
       "                    // IPython >= 3 moved mimebundle to data attribute of output\n",
       "                    data = data.data;\n",
       "                }\n",
       "                if (data['text/html'] === html_output) {\n",
       "                    return [cell, data, j];\n",
       "                }\n",
       "            }\n",
       "        }\n",
       "    }\n",
       "};\n",
       "\n",
       "// Register the function which deals with the matplotlib target/channel.\n",
       "// The kernel may be null if the page has been refreshed.\n",
       "if (IPython.notebook.kernel !== null) {\n",
       "    IPython.notebook.kernel.comm_manager.register_target(\n",
       "        'matplotlib',\n",
       "        mpl.mpl_figure_comm\n",
       "    );\n",
       "}\n"
      ],
      "text/plain": [
       "<IPython.core.display.Javascript object>"
      ]
     },
     "metadata": {},
     "output_type": "display_data"
    },
    {
     "data": {
      "text/html": [
       "<img src=\"data:image/png;base64,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\" width=\"1500\">"
      ],
      "text/plain": [
       "<IPython.core.display.HTML object>"
      ]
     },
     "metadata": {},
     "output_type": "display_data"
    }
   ],
   "source": [
    "fig=plt.figure(figsize=(20,10))\n",
    "plt.subplots_adjust(left=0.1, wspace=0.5, hspace=0.5)\n",
    "sns.set_style(\"darkgrid\")\n",
    "\n",
    "plt.subplot(1, 2, 1)\n",
    "plt.title('North America Sales Years',fontdict={'fontsize':14})\n",
    "plt.xticks(rotation=90)\n",
    "sns.barplot(x='Year',y='NA_Sales',data=videogames_clean_df.groupby(videogames_clean_df['Year'].sort_values()).sum().NA_Sales.reset_index(),palette='twilight_shifted')\n",
    "plt.ylabel('North American Sales',fontdict={'fontsize':13})\n",
    "plt.xlabel('Year of Release',fontdict={'fontsize':13})\n",
    "fig.savefig(\"NA_Sales\")"
   ]
  },
  {
   "cell_type": "code",
   "execution_count": null,
   "id": "71e0be87",
   "metadata": {},
   "outputs": [],
   "source": []
  },
  {
   "cell_type": "markdown",
   "id": "f549003c",
   "metadata": {},
   "source": [
    "Which video game platform had the most sales in North America?"
   ]
  },
  {
   "cell_type": "code",
   "execution_count": 16,
   "id": "1459b8ea",
   "metadata": {},
   "outputs": [],
   "source": [
    "videogames_clean_df.groupby('Platform')['NA_Sales'].sum().sort_values(ascending=True).plot(\n",
    "                            kind='barh', y='NA_Sales', figsize=(15,10), edgecolor='black'\n",
    ")\n",
    "plt.title('Sales by Platform')\n",
    "plt.xticks(rotation=45)\n",
    "plt.xlabel('')\n",
    "plt.ylabel('')\n",
    "plt.show()\n",
    "plt.savefig('Platform_sales.png')"
   ]
  },
  {
   "cell_type": "code",
   "execution_count": 17,
   "id": "838aba1d",
   "metadata": {},
   "outputs": [
    {
     "data": {
      "text/html": [
       "<div>\n",
       "<style scoped>\n",
       "    .dataframe tbody tr th:only-of-type {\n",
       "        vertical-align: middle;\n",
       "    }\n",
       "\n",
       "    .dataframe tbody tr th {\n",
       "        vertical-align: top;\n",
       "    }\n",
       "\n",
       "    .dataframe thead th {\n",
       "        text-align: right;\n",
       "    }\n",
       "</style>\n",
       "<table border=\"1\" class=\"dataframe\">\n",
       "  <thead>\n",
       "    <tr style=\"text-align: right;\">\n",
       "      <th></th>\n",
       "      <th>NA_Sales</th>\n",
       "    </tr>\n",
       "    <tr>\n",
       "      <th>Platform</th>\n",
       "      <th></th>\n",
       "    </tr>\n",
       "  </thead>\n",
       "  <tbody>\n",
       "    <tr>\n",
       "      <th>X360</th>\n",
       "      <td>533.43</td>\n",
       "    </tr>\n",
       "    <tr>\n",
       "      <th>PS2</th>\n",
       "      <td>472.65</td>\n",
       "    </tr>\n",
       "    <tr>\n",
       "      <th>Wii</th>\n",
       "      <td>342.91</td>\n",
       "    </tr>\n",
       "    <tr>\n",
       "      <th>PS3</th>\n",
       "      <td>341.62</td>\n",
       "    </tr>\n",
       "    <tr>\n",
       "      <th>DS</th>\n",
       "      <td>173.40</td>\n",
       "    </tr>\n",
       "    <tr>\n",
       "      <th>XB</th>\n",
       "      <td>153.23</td>\n",
       "    </tr>\n",
       "    <tr>\n",
       "      <th>GC</th>\n",
       "      <td>107.93</td>\n",
       "    </tr>\n",
       "    <tr>\n",
       "      <th>PS</th>\n",
       "      <td>91.76</td>\n",
       "    </tr>\n",
       "    <tr>\n",
       "      <th>PS4</th>\n",
       "      <td>84.16</td>\n",
       "    </tr>\n",
       "    <tr>\n",
       "      <th>PSP</th>\n",
       "      <td>81.70</td>\n",
       "    </tr>\n",
       "  </tbody>\n",
       "</table>\n",
       "</div>"
      ],
      "text/plain": [
       "          NA_Sales\n",
       "Platform          \n",
       "X360        533.43\n",
       "PS2         472.65\n",
       "Wii         342.91\n",
       "PS3         341.62\n",
       "DS          173.40\n",
       "XB          153.23\n",
       "GC          107.93\n",
       "PS           91.76\n",
       "PS4          84.16\n",
       "PSP          81.70"
      ]
     },
     "execution_count": 17,
     "metadata": {},
     "output_type": "execute_result"
    }
   ],
   "source": [
    "videogames_clean_df.groupby('Platform')['NA_Sales'].sum().to_frame('NA_Sales').sort_values(\n",
    "                                                        by='NA_Sales', ascending=False\n",
    "                                                        ).head(10)"
   ]
  },
  {
   "cell_type": "markdown",
   "id": "90f03316",
   "metadata": {},
   "source": [
    "We can see that in North America that Xbox360 has the most video game sales in the region. Followed by the PS2 and Nintendo Wii."
   ]
  },
  {
   "cell_type": "code",
   "execution_count": 18,
   "id": "45e13232",
   "metadata": {},
   "outputs": [
    {
     "data": {
      "text/plain": [
       "Name            uDraw Studio: Instant Artist\n",
       "Platform                                XOne\n",
       "Year                                  2016.0\n",
       "Genre                               Strategy\n",
       "Publisher               inXile Entertainment\n",
       "NA_Sales                               41.36\n",
       "EU_Sales                               28.96\n",
       "JP_Sales                                 6.5\n",
       "Other_Sales                            10.57\n",
       "Global_Sales                           82.53\n",
       "Critic_Score                            98.0\n",
       "Critic_Count                           113.0\n",
       "User_Score                               9.6\n",
       "User_Count                           10665.0\n",
       "Developer                             zSlide\n",
       "Rating                                     T\n",
       "dtype: object"
      ]
     },
     "execution_count": 18,
     "metadata": {},
     "output_type": "execute_result"
    }
   ],
   "source": [
    "videogames_clean_df.max()"
   ]
  },
  {
   "cell_type": "markdown",
   "id": "fa224284",
   "metadata": {},
   "source": [
    "# What Year had the most sales in North America?"
   ]
  },
  {
   "cell_type": "code",
   "execution_count": 22,
   "id": "0f895e9a",
   "metadata": {},
   "outputs": [
    {
     "data": {
      "text/html": [
       "<div>\n",
       "<style scoped>\n",
       "    .dataframe tbody tr th:only-of-type {\n",
       "        vertical-align: middle;\n",
       "    }\n",
       "\n",
       "    .dataframe tbody tr th {\n",
       "        vertical-align: top;\n",
       "    }\n",
       "\n",
       "    .dataframe thead th {\n",
       "        text-align: right;\n",
       "    }\n",
       "</style>\n",
       "<table border=\"1\" class=\"dataframe\">\n",
       "  <thead>\n",
       "    <tr style=\"text-align: right;\">\n",
       "      <th></th>\n",
       "      <th>NA_Sales</th>\n",
       "    </tr>\n",
       "    <tr>\n",
       "      <th>Year</th>\n",
       "      <th></th>\n",
       "    </tr>\n",
       "  </thead>\n",
       "  <tbody>\n",
       "    <tr>\n",
       "      <th>2008.0</th>\n",
       "      <td>256.25</td>\n",
       "    </tr>\n",
       "    <tr>\n",
       "      <th>2007.0</th>\n",
       "      <td>235.61</td>\n",
       "    </tr>\n",
       "    <tr>\n",
       "      <th>2009.0</th>\n",
       "      <td>231.72</td>\n",
       "    </tr>\n",
       "    <tr>\n",
       "      <th>2006.0</th>\n",
       "      <td>225.69</td>\n",
       "    </tr>\n",
       "    <tr>\n",
       "      <th>2010.0</th>\n",
       "      <td>213.24</td>\n",
       "    </tr>\n",
       "    <tr>\n",
       "      <th>2011.0</th>\n",
       "      <td>190.62</td>\n",
       "    </tr>\n",
       "    <tr>\n",
       "      <th>2005.0</th>\n",
       "      <td>178.15</td>\n",
       "    </tr>\n",
       "    <tr>\n",
       "      <th>2004.0</th>\n",
       "      <td>173.88</td>\n",
       "    </tr>\n",
       "    <tr>\n",
       "      <th>2002.0</th>\n",
       "      <td>163.76</td>\n",
       "    </tr>\n",
       "    <tr>\n",
       "      <th>2003.0</th>\n",
       "      <td>143.08</td>\n",
       "    </tr>\n",
       "  </tbody>\n",
       "</table>\n",
       "</div>"
      ],
      "text/plain": [
       "        NA_Sales\n",
       "Year            \n",
       "2008.0    256.25\n",
       "2007.0    235.61\n",
       "2009.0    231.72\n",
       "2006.0    225.69\n",
       "2010.0    213.24\n",
       "2011.0    190.62\n",
       "2005.0    178.15\n",
       "2004.0    173.88\n",
       "2002.0    163.76\n",
       "2003.0    143.08"
      ]
     },
     "execution_count": 22,
     "metadata": {},
     "output_type": "execute_result"
    }
   ],
   "source": [
    "#Use groupby func to group Year and NA_Sales to find max sales in region\n",
    "newvgs_df=videogames_clean_df.groupby('Year')['NA_Sales'].sum().to_frame('NA_Sales').sort_values(\n",
    "                                                        by='NA_Sales', ascending=False\n",
    "                                                        ).head(10)\n",
    "newvgs_df"
   ]
  },
  {
   "cell_type": "markdown",
   "id": "2fa8c018",
   "metadata": {},
   "source": [
    "The year 2008 had the most sales in North America with 256.25 million dollars with 2007 coming in second place with 235.61 million dollars in sales in the region."
   ]
  },
  {
   "cell_type": "code",
   "execution_count": 19,
   "id": "2c8cd001",
   "metadata": {},
   "outputs": [],
   "source": [
    "#Save to new CSV\n",
    "videogames_clean_df.to_csv(\"new-VGS.csv\", index=True)"
   ]
  },
  {
   "cell_type": "markdown",
   "id": "498b595f",
   "metadata": {},
   "source": [
    "# Conclusion"
   ]
  },
  {
   "cell_type": "markdown",
   "id": "8164df13",
   "metadata": {},
   "source": [
    "Shooter and Sports video games have sold most in sales in North America.\n",
    "\n",
    "Xbox360 video games were most popular within the North American region with 533 million dollars in sales. The publisher is Microsoft.\n",
    "\n",
    "The year with the single most amount of sales in North America was 2008 with 265 million dollars in sales, but the platform with the highest amount of sales was in 2006 with Wii Sports being the most sold video game made by Nintendo with 41 million dollars in sales.\n"
   ]
  },
  {
   "cell_type": "code",
   "execution_count": null,
   "id": "40767612",
   "metadata": {},
   "outputs": [],
   "source": []
  }
 ],
 "metadata": {
  "kernelspec": {
   "display_name": "Python 3 (ipykernel)",
   "language": "python",
   "name": "python3"
  },
  "language_info": {
   "codemirror_mode": {
    "name": "ipython",
    "version": 3
   },
   "file_extension": ".py",
   "mimetype": "text/x-python",
   "name": "python",
   "nbconvert_exporter": "python",
   "pygments_lexer": "ipython3",
   "version": "3.9.13"
  }
 },
 "nbformat": 4,
 "nbformat_minor": 5
}
